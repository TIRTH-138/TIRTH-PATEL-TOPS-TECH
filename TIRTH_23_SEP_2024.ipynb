{
 "cells": [
  {
   "cell_type": "code",
   "execution_count": 1,
   "id": "cc872859-b69f-4ff2-9d9c-8db480b80af4",
   "metadata": {},
   "outputs": [
    {
     "name": "stdout",
     "output_type": "stream",
     "text": [
      "Good\n"
     ]
    }
   ],
   "source": [
    "print (\"Good\")"
   ]
  },
  {
   "cell_type": "code",
   "execution_count": 3,
   "id": "012eaa0a-973e-4836-a4ed-be19fe546086",
   "metadata": {},
   "outputs": [
    {
     "name": "stdout",
     "output_type": "stream",
     "text": [
      "Bad\n"
     ]
    }
   ],
   "source": [
    "\"Good\"\n",
    "print (\"Bad\")"
   ]
  },
  {
   "cell_type": "markdown",
   "id": "e122b791-5cb8-4886-b1b6-858c9f3343b2",
   "metadata": {},
   "source": [
    "# First Code\n",
    "## First Code\n",
    "### First Code \n",
    "#### First Code"
   ]
  },
  {
   "cell_type": "code",
   "execution_count": 9,
   "id": "c5ab9a1d-85a5-4ac6-b4f9-56bb911b52ea",
   "metadata": {},
   "outputs": [
    {
     "name": "stdout",
     "output_type": "stream",
     "text": [
      "a b c d\n"
     ]
    }
   ],
   "source": [
    "a = 3\n",
    "b = 4\n",
    "c = 5 \n",
    "d = 6\n",
    "print (\"a\" \" \" \"b\" \" \" \"c\" \" \" \"d\")"
   ]
  },
  {
   "cell_type": "code",
   "execution_count": 17,
   "id": "543f6e61-c40c-4d84-acb4-51b3e933c86a",
   "metadata": {},
   "outputs": [
    {
     "name": "stdout",
     "output_type": "stream",
     "text": [
      "3 4 5 6\n"
     ]
    }
   ],
   "source": [
    "a = 3\n",
    "b = 4\n",
    "c = 5\n",
    "d = 6\n",
    "print (a,b,c,d) "
   ]
  },
  {
   "cell_type": "code",
   "execution_count": 19,
   "id": "529c4d3d-2652-49e9-bebc-38f18bd400f5",
   "metadata": {},
   "outputs": [
    {
     "name": "stdout",
     "output_type": "stream",
     "text": [
      "age of the person 3\n"
     ]
    }
   ],
   "source": [
    "print (\"age of the person\", a)"
   ]
  },
  {
   "cell_type": "code",
   "execution_count": 21,
   "id": "f5fcaa8e-0c0b-43e0-907e-0ce0f3b01f1b",
   "metadata": {},
   "outputs": [
    {
     "name": "stdout",
     "output_type": "stream",
     "text": [
      "I'D of the Person 4\n"
     ]
    }
   ],
   "source": [
    "print (\"I'D of the Person\", b)"
   ]
  },
  {
   "cell_type": "code",
   "execution_count": 25,
   "id": "177e40b8-c52d-4834-b7b7-590683c6759b",
   "metadata": {},
   "outputs": [
    {
     "data": {
      "text/plain": [
       "'\\nInt = 23,24,25\\nFloat = 25.67,68.10,26.25\\nStr = python,data\\nBoolean = true,False\\nComplex = 3+5k\\n'"
      ]
     },
     "execution_count": 25,
     "metadata": {},
     "output_type": "execute_result"
    }
   ],
   "source": [
    "\"\"\"\n",
    "Int = 23,24,25\n",
    "Float = 25.67,68.10,26.25\n",
    "Str = python,data\n",
    "Boolean = true,False\n",
    "Complex = 3+5k\n",
    "\"\"\"\n"
   ]
  },
  {
   "cell_type": "code",
   "execution_count": 27,
   "id": "a1e72e97-0cb8-41e4-a360-13f24026bd76",
   "metadata": {},
   "outputs": [
    {
     "name": "stdout",
     "output_type": "stream",
     "text": [
      "\n",
      "Int = 23,24,25\n",
      "Float = 25.67,68.10,26.25\n",
      "Str = python,data\n",
      "Boolean = true,false\n",
      "Complex = 3+5k\n",
      "\n"
     ]
    }
   ],
   "source": [
    "r = \"\"\"\n",
    "Int = 23,24,25\n",
    "Float = 25.67,68.10,26.25\n",
    "Str = python,data\n",
    "Boolean = true,false\n",
    "Complex = 3+5k\n",
    "\"\"\"\n",
    "print (r)"
   ]
  },
  {
   "cell_type": "code",
   "execution_count": 29,
   "id": "fc1c2c7f-2561-4234-b03e-330d7a7d78bb",
   "metadata": {},
   "outputs": [
    {
     "name": "stdout",
     "output_type": "stream",
     "text": [
      "\n",
      "Int = 23,24,25\n",
      "Float = 25.67,68.10,26.25\n",
      "Str = python,data\n",
      "Boolean = true,false\n",
      "Complex = 3+5k\n",
      "\n"
     ]
    }
   ],
   "source": [
    "r = '''\n",
    "Int = 23,24,25\n",
    "Float = 25.67,68.10,26.25\n",
    "Str = python,data\n",
    "Boolean = true,false\n",
    "Complex = 3+5k\n",
    "'''\n",
    "print (r)"
   ]
  },
  {
   "cell_type": "code",
   "execution_count": 37,
   "id": "51a5c9d7-27c9-4f13-99c3-b704b65d74af",
   "metadata": {},
   "outputs": [
    {
     "name": "stdout",
     "output_type": "stream",
     "text": [
      "add: 45\n",
      "subb: -5\n",
      "500\n",
      "0.8\n"
     ]
    }
   ],
   "source": [
    "X = 20\n",
    "Y = 25\n",
    "print(\"add:\",X+Y)\n",
    "print(\"subb:\",X-Y)\n",
    "print(X*Y)\n",
    "print(X/Y)\n"
   ]
  },
  {
   "cell_type": "code",
   "execution_count": 43,
   "id": "df289db7-2515-4c5c-98c8-4e9fd0803b45",
   "metadata": {},
   "outputs": [
    {
     "name": "stdout",
     "output_type": "stream",
     "text": [
      "python data\n"
     ]
    }
   ],
   "source": [
    "a = \"python\"\n",
    "b = \"data\"\n",
    "c = 20\n",
    "print (a+\" \"+b)"
   ]
  },
  {
   "cell_type": "code",
   "execution_count": 45,
   "id": "a549c228-7712-4449-9b25-c456526ffea8",
   "metadata": {},
   "outputs": [
    {
     "name": "stdout",
     "output_type": "stream",
     "text": [
      "python data 20\n"
     ]
    }
   ],
   "source": [
    "print (a,b,c)"
   ]
  },
  {
   "cell_type": "code",
   "execution_count": 63,
   "id": "8d2e598b-07d9-4f23-b10f-5eaabd0633be",
   "metadata": {},
   "outputs": [
    {
     "name": "stdin",
     "output_type": "stream",
     "text": [
      "Enter the number : 2\n"
     ]
    },
    {
     "name": "stdout",
     "output_type": "stream",
     "text": [
      "<class 'str'>\n"
     ]
    }
   ],
   "source": [
    "k = input(\"Enter the number :\")\n",
    "t = 3\n",
    "#k+t\n",
    "print(type(k))"
   ]
  },
  {
   "cell_type": "code",
   "execution_count": 49,
   "id": "a0166e51-9b7c-4053-ba11-f59ee4a2ec59",
   "metadata": {},
   "outputs": [
    {
     "name": "stdin",
     "output_type": "stream",
     "text": [
      "enter the number : 5\n"
     ]
    },
    {
     "name": "stdout",
     "output_type": "stream",
     "text": [
      "8\n",
      "<class 'int'>\n"
     ]
    }
   ],
   "source": [
    "k = int(input(\"enter the number :\"))\n",
    "t = 3\n",
    "print (k+3)\n",
    "print (type(k))"
   ]
  }
 ],
 "metadata": {
  "kernelspec": {
   "display_name": "Python 3 (ipykernel)",
   "language": "python",
   "name": "python3"
  },
  "language_info": {
   "codemirror_mode": {
    "name": "ipython",
    "version": 3
   },
   "file_extension": ".py",
   "mimetype": "text/x-python",
   "name": "python",
   "nbconvert_exporter": "python",
   "pygments_lexer": "ipython3",
   "version": "3.12.4"
  }
 },
 "nbformat": 4,
 "nbformat_minor": 5
}
