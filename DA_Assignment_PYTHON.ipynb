{
 "cells": [
  {
   "cell_type": "raw",
   "id": "5c492e95-f84d-4b7d-83cb-68d81f840e13",
   "metadata": {},
   "source": [
    "1. What are the type of application?\n",
    "-> Types of Applications:\n",
    "    - Web Applications\n",
    "    - Desktop Gui Applications\n",
    "    - Command-Line Applications\n",
    "    - Data Science and Machine Learning\n",
    "    - Game Devlopment\n",
    "    - Automation & Scripting\n",
    "    - Network Programming\n",
    "    - Iot Applications\n",
    "    - Embedded System\n",
    "    - Web Scrapping\n",
    "    - Mobile Applications\n",
    "    - Blockchain\n",
    "    - AI & Deep Learning\n",
    "    - Scientific Applications\n",
    "    - Database Applications                                 "
   ]
  },
  {
   "cell_type": "raw",
   "id": "3c800885-8da6-47d7-a746-1d1afab8afe5",
   "metadata": {},
   "source": [
    "2. What is programming?\n",
    "-> Programming is the process of creating a set of instructions that a computer can follow to perform specific tasks. These instructions, written in a programming language, tell the computer how to process data, make decisions, and execute operations."
   ]
  },
  {
   "cell_type": "raw",
   "id": "18c48de1-5132-4e99-b183-184b52949ee6",
   "metadata": {},
   "source": [
    "3. What is Python?\n",
    "-> Python is a high-level, interpreted programming language known for its simplicity and readability. It was created by Guido van Rossum and first released in 1991. Python is designed to be easy to learn and use, making it a popular choice for beginners and experienced developers alike. and Pyhton is Case-Sensitive language."
   ]
  },
  {
   "cell_type": "code",
   "execution_count": 11,
   "id": "7850026a-8314-49e8-ad97-5bc889da2098",
   "metadata": {},
   "outputs": [
    {
     "name": "stdin",
     "output_type": "stream",
     "text": [
      "Enter a Number: 5\n"
     ]
    },
    {
     "name": "stdout",
     "output_type": "stream",
     "text": [
      "The number is positve\n"
     ]
    }
   ],
   "source": [
    "# 4. Write a Python program to check if a number is positive, negative or Zero.\n",
    "\n",
    "def check_number(num):\n",
    "    if num > 0:\n",
    "        return \"The number is positve\" \n",
    "    elif num < 0:\n",
    "        return \"The number is negative\"\n",
    "    else:\n",
    "        return \"The number is zero\"\n",
    "   \n",
    "number = float(input(\"Enter a Number:\"))\n",
    "\n",
    "result = check_number(number)\n",
    "print(result)"
   ]
  },
  {
   "cell_type": "code",
   "execution_count": 10,
   "id": "2e69b661-eda4-4008-9c0b-c65f93b6a38b",
   "metadata": {},
   "outputs": [
    {
     "name": "stdin",
     "output_type": "stream",
     "text": [
      "Enter a number: 5\n"
     ]
    },
    {
     "name": "stdout",
     "output_type": "stream",
     "text": [
      "120\n"
     ]
    }
   ],
   "source": [
    "# 5. Write a Python program to get the Factorial number of given numbers.\n",
    "\n",
    "def factorial(n):\n",
    "    if n==0 or n==1:\n",
    "        return 1\n",
    "    else:\n",
    "        return n*factorial(n-1)\n",
    "\n",
    "number = int(input(\"Enter a number:\"))\n",
    "\n",
    "if number < 0:\n",
    "    print(\"factorial is not defined for negative numbers: \")\n",
    "else:\n",
    "\n",
    "    result = factorial(number)\n",
    "    print(result)"
   ]
  },
  {
   "cell_type": "code",
   "execution_count": 9,
   "id": "bea7ee78-ca7e-4b28-b79a-c42e359f1928",
   "metadata": {},
   "outputs": [
    {
     "name": "stdin",
     "output_type": "stream",
     "text": [
      "Enter a number: 13\n"
     ]
    },
    {
     "name": "stdout",
     "output_type": "stream",
     "text": [
      "[0, 1, 1, 2, 3, 5, 8, 13, 21, 34, 55, 89, 144]\n"
     ]
    }
   ],
   "source": [
    "# 6. Write a Python program to get the Fibonacci series of given range.\n",
    "\n",
    "def fibonacci_series(n):\n",
    "    fib_sequence = []\n",
    "    a, b = 0, 1\n",
    "    while len(fib_sequence) < n:\n",
    "        fib_sequence.append(a)\n",
    "        a,b = b, a + b\n",
    "    return fib_sequence    \n",
    "\n",
    "n = int(input(\"Enter a number:\"))\n",
    "\n",
    "fib_sequence = fibonacci_series(n)\n",
    "print(fib_sequence)"
   ]
  },
  {
   "cell_type": "raw",
   "id": "b667b458-7fec-4075-ae92-f2900354e52f",
   "metadata": {},
   "source": [
    "7. How memory is managed in Python?\n",
    "-> Memory Management in Python:\n",
    "    - Automatic Management: Python uses an automatic memory management system with a private heap where all objects and data structures are stored.\n",
    "\n",
    "    - Reference Counting: Python tracks the number of references to each object. When an object’s reference count drops to zero, memory is freed.\n",
    "\n",
    "    - Garbage Collection: Python’s garbage collector handles cyclic references (objects referring to each other) to reclaim memory that reference                                  counting alone can’t manage.\n",
    "\n",
    "    - Object-Specific Allocators: Python has specialized memory allocators (like pymalloc) for efficient management of small objects.\n",
    "      Memory Optimization: Techniques like small object pooling and interning reduce memory usage for frequently used immutable objects."
   ]
  },
  {
   "cell_type": "raw",
   "id": "728cb904-2eed-4c76-9ab9-09cb412c3fb5",
   "metadata": {},
   "source": [
    "8. What is the purpose continuing statement in Python?\n",
    "-> The continue statement in Python is used within loops to skip the current iteration and move to the next iteration. When a continue statement is encountered, the remaining code inside the loop for that specific iteration ignored, and the loop proceeds with the next iteration based on the loop's condition.   \n",
    "\n",
    "-> Purpose of continue:\n",
    "    - Control Flow Management: It allows for more refined control over the execution of loop iterations by enabling specific conditions to bypass                                       certain actions without exiting the loop entirely.\n",
    "\n",
    "    - Efficiency: By skipping unnecessary iterations or computations, it can make the loop execution more efficient, particularly when dealing with                        large datasets or complex conditions.\n",
    "\n",
    "    - Code Clarity: It can help improve code readability by clearly indicating that certain conditions should lead to skipping the remainder of the loop                     for that iteration, rather than using nested conditionals.\n"
   ]
  },
  {
   "cell_type": "code",
   "execution_count": 8,
   "id": "07a50fbc-1501-44c7-8a0d-68584debd6de",
   "metadata": {},
   "outputs": [
    {
     "name": "stdout",
     "output_type": "stream",
     "text": [
      "Original numbers:\n",
      "num1 = 5, num2 = 10\n",
      "After swapping with temp variable:\n",
      "num1 = 10, num2 = 5\n",
      "After swapping without temp variable:\n",
      "num1 = 10, num2 = 5\n"
     ]
    }
   ],
   "source": [
    "# 9. Write python program that swap two number with temp variable and without temp variable.\n",
    "\n",
    "def swap_with_temp(t, r):\n",
    "    temp = t\n",
    "    t = r\n",
    "    r = temp\n",
    "    return t, r\n",
    "\n",
    "def swap_without_temp(t, r):\n",
    "    t = t + r\n",
    "    r = t - r\n",
    "    t = t - r\n",
    "    return t, r\n",
    "\n",
    "def main():\n",
    "    num1 = 5\n",
    "    num2 = 10\n",
    "\n",
    "    print(\"Original numbers:\")\n",
    "    print(f\"num1 = {num1}, num2 = {num2}\")\n",
    "\n",
    "    num1, num2 = swap_with_temp(num1, num2)\n",
    "    print(\"After swapping with temp variable:\")\n",
    "    print(f\"num1 = {num1}, num2 = {num2}\")\n",
    "\n",
    "    num1, num2 = swap_with_temp(num1, num2)\n",
    "\n",
    "    num1, num2 = swap_without_temp(num1, num2)\n",
    "    print(\"After swapping without temp variable:\")\n",
    "    print(f\"num1 = {num1}, num2 = {num2}\")\n",
    "\n",
    "if __name__ == \"__main__\":\n",
    "    main()"
   ]
  },
  {
   "cell_type": "code",
   "execution_count": 7,
   "id": "e614b468-be3c-4faa-abf8-3c4eb5efb294",
   "metadata": {},
   "outputs": [
    {
     "name": "stdin",
     "output_type": "stream",
     "text": [
      "Enter a number: 4\n"
     ]
    },
    {
     "name": "stdout",
     "output_type": "stream",
     "text": [
      "4 is even number.\n"
     ]
    }
   ],
   "source": [
    "# 10. Write a Python program to find whether a given number is even or odd, print out an appropriate message to the user.\n",
    "\n",
    "def check_even_odd(number):\n",
    "    if number % 2 == 0:\n",
    "        print(f\"{number} is even number.\")\n",
    "    else:\n",
    "        print(f\"{number} is odd number.\")\n",
    "\n",
    "num = int(input(\"Enter a number:\"))\n",
    "check_even_odd(num)"
   ]
  },
  {
   "cell_type": "code",
   "execution_count": 6,
   "id": "232c9a7c-d77a-451a-9f2e-3dc13024d754",
   "metadata": {},
   "outputs": [
    {
     "name": "stdin",
     "output_type": "stream",
     "text": [
      "Enter a letter: A\n"
     ]
    },
    {
     "name": "stdout",
     "output_type": "stream",
     "text": [
      "A is a vowel.\n"
     ]
    }
   ],
   "source": [
    "# 11. Write a Python program to test whether a passed letter is a vowel or not.\n",
    "\n",
    "def check_vowel(letter):\n",
    "    vowels = 'aeiouAEIOU' \n",
    "    if letter in vowels:\n",
    "        print(f\"{letter} is a vowel.\")\n",
    "    else:\n",
    "        print(f\"{letter} is not a vowel.\")\n",
    "\n",
    "char = input(\"Enter a letter:\")\n",
    "\n",
    "if len(char) == 1 and char.isalpha():\n",
    "    check_vowel(char)\n",
    "else:\n",
    "    print(\"Please enter a single letter.\")"
   ]
  },
  {
   "cell_type": "code",
   "execution_count": 5,
   "id": "4b44275c-4746-4c57-8601-071fd61e9927",
   "metadata": {},
   "outputs": [
    {
     "name": "stdin",
     "output_type": "stream",
     "text": [
      "Enter the first integer: 1\n",
      "Enter the second integer: 2\n",
      "Enter the third integer: 3\n"
     ]
    },
    {
     "name": "stdout",
     "output_type": "stream",
     "text": [
      "The result is: 6\n"
     ]
    }
   ],
   "source": [
    "# 12. Write a Python program to sum of three given integers. However, if two values are equal sum will be zero.\n",
    "\n",
    "def sum_three_integers(a,b,c):\n",
    "    if a == b or a == c or b == c:\n",
    "        return 0 \n",
    "    else:\n",
    "        return a + b + c\n",
    "\n",
    "num1 = int(input(\"Enter the first integer:\"))\n",
    "num2 = int(input(\"Enter the second integer:\"))\n",
    "num3 = int(input(\"Enter the third integer:\"))\n",
    "\n",
    "result = sum_three_integers(num1, num2, num3)\n",
    "print(f\"The result is: {result}\")"
   ]
  },
  {
   "cell_type": "code",
   "execution_count": 4,
   "id": "52735f72-9e86-424d-b486-613510a02127",
   "metadata": {},
   "outputs": [
    {
     "name": "stdin",
     "output_type": "stream",
     "text": [
      "Enter the first integer: 10\n",
      "Enter the second integer: 5\n"
     ]
    },
    {
     "name": "stdout",
     "output_type": "stream",
     "text": [
      "The result is: True\n"
     ]
    }
   ],
   "source": [
    "# 13. Write a Python program that will return true if the two giveninteger values are equal or their sum or difference is 5.\n",
    "\n",
    "def check_values(a,b):\n",
    "    if a == b or (a + b == 5) or (abs(a - b) == 5):\n",
    "        return True\n",
    "    else:\n",
    "        return False \n",
    "\n",
    "num1 = int(input(\"Enter the first integer:\"))\n",
    "num2 = int(input(\"Enter the second integer:\"))\n",
    "\n",
    "result = check_values(num1,num2)\n",
    "print(f\"The result is: {result}\")"
   ]
  },
  {
   "cell_type": "code",
   "execution_count": 3,
   "id": "152ef89a-400f-4038-8560-194a3521daf2",
   "metadata": {},
   "outputs": [
    {
     "name": "stdin",
     "output_type": "stream",
     "text": [
      "Enter a positive integer: 3\n"
     ]
    },
    {
     "name": "stdout",
     "output_type": "stream",
     "text": [
      "The sum of the first 3 positive integers is: 6\n"
     ]
    }
   ],
   "source": [
    "# 14. Write a python program to sum of the first n positive integers.\n",
    "\n",
    "def sum_of_integers(n):\n",
    "    return n*(n + 1) // 2\n",
    "\n",
    "n = int(input(\"Enter a positive integer:\"))\n",
    "print(f\"The sum of the first {n} positive integers is: {sum_of_integers(n)}\")"
   ]
  },
  {
   "cell_type": "code",
   "execution_count": 2,
   "id": "d036b17a-0a5e-466a-a4fa-7515d03e692d",
   "metadata": {},
   "outputs": [
    {
     "name": "stdin",
     "output_type": "stream",
     "text": [
      "Enter a string: I learn the Python language for Data Analytics.\n"
     ]
    },
    {
     "name": "stdout",
     "output_type": "stream",
     "text": [
      "The length of the string is: 47\n"
     ]
    }
   ],
   "source": [
    "# 15. Write a Python program to calculate the length of a string.\n",
    "\n",
    "string = input(\"Enter a string:\")\n",
    " \n",
    "len_of_string = len(string)\n",
    " \n",
    "print(f\"The length of the string is: {len_of_string}\")"
   ]
  },
  {
   "cell_type": "code",
   "execution_count": 1,
   "id": "9ba4eae0-8fdb-441b-b435-29c17e02a5e1",
   "metadata": {},
   "outputs": [
    {
     "name": "stdin",
     "output_type": "stream",
     "text": [
      "Enter a string:  Python is easy to learn language.\n"
     ]
    },
    {
     "name": "stdout",
     "output_type": "stream",
     "text": [
      "Character frequency in the string:\n",
      "'P': 1 | 'y': 2 | 't': 2 | 'h': 1 | 'o': 2 | 'n': 3 | ' ': 5 | 'i': 1 | 's': 2 | 'e': 3 | 'a': 4 | 'l': 2 | 'r': 1 | 'g': 2 | 'u': 1 | '.': 1 | "
     ]
    }
   ],
   "source": [
    "# 16. Write a Python program to count the number of characters (character frequency) in a string\n",
    "\n",
    "input_string = input(\"Enter a string: \")\n",
    "\n",
    "char_frequency = {}\n",
    "\n",
    "for char in input_string:\n",
    "    if char in char_frequency:\n",
    "        char_frequency[char] += 1\n",
    "    else:\n",
    "        char_frequency[char] = 1\n",
    "\n",
    "print(\"Character frequency in the string:\")\n",
    "for char, frequency in char_frequency.items():\n",
    "    print(f\"'{char}': {frequency}\", end = \" | \")\n"
   ]
  },
  {
   "cell_type": "raw",
   "id": "be7d885a-44e1-43b0-8f99-f9375e6f9653",
   "metadata": {},
   "source": [
    "17. What are negative indexes and why are they used?\n",
    "-> Negative indexes in Python allow you to access elements from the end of a sequence (like lists, strings, or tuples). Instead of starting at 0 for the    first element, negative indexes start at -1 for the last element. For example, in a list my_list, my_list[-1] gives you the last element, and            my_list[-2] gives you the second-to-last element.\n",
    "\n",
    "-> Uses of Negative Indexes:\n",
    "\n",
    "    - Convenience: They enable easy access to elements at the end without needing to calculate the length of the sequence.\n",
    "    - Clarity: They make code more readable. For example, my_list[-1] clearly indicates you want the last item, compared to calculating its index with                  len(my_list) - 1.\n",
    "    - Slicing: They can be used in slicing to extract portions of a sequence from the end, such as my_list[-3:], which returns the last three elements.\n",
    "               Overall, negative indexes enhance code simplicity and readability when dealing with sequences."
   ]
  },
  {
   "cell_type": "code",
   "execution_count": 12,
   "id": "c5d0a892-3af8-4d43-b801-a85bb5b680a4",
   "metadata": {},
   "outputs": [
    {
     "name": "stdin",
     "output_type": "stream",
     "text": [
      "Enter the main string:  Python is best language.\n",
      "Enter the substring to count:  Python\n"
     ]
    },
    {
     "name": "stdout",
     "output_type": "stream",
     "text": [
      "The substring 'Python' occurs 1 times in the main string.\n"
     ]
    }
   ],
   "source": [
    "# 18. Write a Python program to count occurrences of a substring in a string.\n",
    "\n",
    "main_string = input(\"Enter the main string: \")\n",
    "substring = input(\"Enter the substring to count: \")\n",
    "\n",
    "count = main_string.count(substring)\n",
    "\n",
    "print(f\"The substring '{substring}' occurs {count} times in the main string.\")"
   ]
  },
  {
   "cell_type": "code",
   "execution_count": 13,
   "id": "41368d02-e1e1-47e9-a76b-6cea22bc9d4c",
   "metadata": {},
   "outputs": [
    {
     "name": "stdin",
     "output_type": "stream",
     "text": [
      "Enter a string:  I am Python language and Python is best language.\n"
     ]
    },
    {
     "name": "stdout",
     "output_type": "stream",
     "text": [
      "Word frequency in the string:\n",
      "'I': 1 | 'am': 1 | 'Python': 2 | 'language': 1 | 'and': 1 | 'is': 1 | 'best': 1 | 'language.': 1 | "
     ]
    }
   ],
   "source": [
    "# 19. Write a Python program to count the occurrences of each word in a \n",
    "\n",
    "input_string = input(\"Enter a string: \")\n",
    "\n",
    "words = input_string.split()\n",
    "\n",
    "word_count = {}\n",
    "\n",
    "for word in words:\n",
    "    if word in word_count:\n",
    "        word_count[word] += 1\n",
    "    else:\n",
    "        word_count[word] = 1\n",
    "\n",
    "print(\"Word frequency in the string:\")\n",
    "for word, count in word_count.items():\n",
    "    print(f\"'{word}': {count}\", end=\" | \")"
   ]
  },
  {
   "cell_type": "code",
   "execution_count": 14,
   "id": "b23156fe-77f1-4fe1-940c-19bd21400b63",
   "metadata": {},
   "outputs": [
    {
     "name": "stdin",
     "output_type": "stream",
     "text": [
      "Enter the first string:  Python is best language.\n",
      "Enter the second string:  I am learning data analytics from tops technologies.\n"
     ]
    },
    {
     "name": "stdout",
     "output_type": "stream",
     "text": [
      "Result: I thon is best language. Pyam learning data analytics from tops technologies.\n"
     ]
    }
   ],
   "source": [
    "# 20. Write a Python program to get a single string from two given strings, separated by a space and swap the first two characters of each string. \n",
    "\n",
    "string1 = input(\"Enter the first string: \")\n",
    "string2 = input(\"Enter the second string: \")\n",
    "\n",
    "if len(string1) > 1 and len(string2) > 1:\n",
    "    swapped_string1 = string2[:2] + string1[2:]\n",
    "    swapped_string2 = string1[:2] + string2[2:]\n",
    "    \n",
    "    result = swapped_string1 + \" \" + swapped_string2\n",
    "else:\n",
    "    result = \"Strings are too short to swap first two characters.\"\n",
    "\n",
    "print(\"Result:\", result)"
   ]
  },
  {
   "cell_type": "code",
   "execution_count": 15,
   "id": "b5ff7f3b-9f05-49c2-adb4-43d77a1a6d32",
   "metadata": {},
   "outputs": [
    {
     "name": "stdout",
     "output_type": "stream",
     "text": [
      "runin\n",
      "playingly\n",
      "go\n"
     ]
    }
   ],
   "source": [
    "# 21. Write a Python program to add 'in' at the end of a given string (length should be at least 3). If the given string already ends with 'ing' then add 'ly' instead if the string length of the given string is less than 3, leave it unchanged. \n",
    "\n",
    "def modify_string(s):\n",
    "    if len(s) < 3:\n",
    "        return s\n",
    "    elif s.endswith('ing'):\n",
    "        return s + 'ly'\n",
    "    else:\n",
    "        return s + 'in'\n",
    "\n",
    "print(modify_string(\"run\"))  \n",
    "print(modify_string(\"playing\"))  \n",
    "print(modify_string(\"go\"))  "
   ]
  },
  {
   "cell_type": "code",
   "execution_count": 16,
   "id": "1e92ceea-686d-4afb-aa7e-fc5ad8256ba6",
   "metadata": {},
   "outputs": [
    {
     "name": "stdout",
     "output_type": "stream",
     "text": [
      "len of str is 4: dcba\n",
      "len of str is 5: hello\n",
      "len of str if 6: python\n"
     ]
    }
   ],
   "source": [
    "# 22. Write a Python function to reverses a string if its length is a multiple of 4. \n",
    "\n",
    "def reverse_str(s):\n",
    "    if len(s) % 4 == 0:\n",
    "        return s[::-1]\n",
    "    else:\n",
    "        return s\n",
    "\n",
    "print(\"len of str is 4:\",reverse_str(\"abcd\")) \n",
    "print(\"len of str is 5:\",reverse_str(\"hello\")) \n",
    "print(\"len of str if 6:\",reverse_str(\"python\"))  "
   ]
  },
  {
   "cell_type": "code",
   "execution_count": 18,
   "id": "2266783c-e9cb-44a7-a8c1-730eac155683",
   "metadata": {},
   "outputs": [
    {
     "name": "stdout",
     "output_type": "stream",
     "text": [
      "spng\n",
      "helo\n",
      "\n",
      "abcd\n"
     ]
    }
   ],
   "source": [
    "# 23. Write a Python program to get a string made of the first 2 and the last 2 chars from a given a string. If the string length is less than 2, return instead of the empty string.\n",
    "\n",
    "def first_last_chars(s):\n",
    "    if len(s) < 2:\n",
    "        return ''\n",
    "    else:\n",
    "        return s[:2] + s[-2:]\n",
    "\n",
    "# Test cases\n",
    "print(first_last_chars(\"spring\"))  \n",
    "print(first_last_chars(\"hello\"))   \n",
    "print(first_last_chars(\"a\"))       \n",
    "print(first_last_chars(\"abcd\"))    "
   ]
  },
  {
   "cell_type": "code",
   "execution_count": 17,
   "id": "a8607b74-0e0d-4449-9374-cb6cdefa695e",
   "metadata": {},
   "outputs": [
    {
     "name": "stdout",
     "output_type": "stream",
     "text": [
      "Hello Python World\n"
     ]
    }
   ],
   "source": [
    "# 24. Write a Python function to insert a string in the middle of a string. \n",
    "\n",
    "def insert_string_middle(original, insert):\n",
    "    return original[:5] + \" \" + insert + \" \" + original[-5:]\n",
    "\n",
    "original_string = \"HelloWorld\"\n",
    "string_to_insert = \"Python\"\n",
    "result = insert_string_middle(original_string, string_to_insert)\n",
    "print(result)  "
   ]
  },
  {
   "cell_type": "raw",
   "id": "697d937b-fed3-4328-8cf9-29afad88d665",
   "metadata": {},
   "source": [
    "25. What is list? How will you reverse a list?\n",
    "-> A list is a data structure used to store an ordered collection of elements, which can be of various data types. Lists are mutable, meaning their         elements can be modified after creation.\n",
    "\n",
    "-> To reverse a list:\n",
    "1. Use the reverse() method to reverse it in place.\n",
    "   \n",
    "   Example: \n",
    "           Input: my_list = [1, 2, 3, 4, 5]\n",
    "                  my_list.reverse()\n",
    "                  print(my_list)\n",
    "           Output: [5, 4, 3, 2, 1]\n",
    "\n",
    "2. Use slicing ([::-1]) to create a reversed copy.\n",
    "   \n",
    "   Example: \n",
    "           Input: my_list = [1, 2, 3, 4, 5]\n",
    "                  reversed_list = my_list[::-1]\n",
    "                  print(reversed_list)\n",
    "           Output: [5, 4, 3, 2, 1]   \n",
    "\n",
    "3. Use the reversed() function to get an iterator and convert it to a list if needed.\n",
    "\n",
    "   Example: \n",
    "           Input: my_list = [1, 2, 3, 4, 5]\n",
    "                  reversed_list = list(reversed(my_list))\n",
    "                  print(reversed_list)\n",
    "           Output: [5, 4, 3, 2, 1]"
   ]
  },
  {
   "cell_type": "raw",
   "id": "a68060e6-1fec-4417-be2c-abe190e22328",
   "metadata": {},
   "source": [
    "26. How will you remove last object from a list?\n",
    "-> To remove the last object from a list in Python, you can use the pop() method. This method removes and returns the last item of the list.\n",
    "   Example:\n",
    "           Input: my_list = [1, 2, 3, 4, 5]\n",
    "                  my_list.pop()\n",
    "                  print(my_list)\n",
    "           Output: [1, 2, 3, 4]"
   ]
  },
  {
   "cell_type": "raw",
   "id": "3e9ed74d-7de1-4f41-81e6-bfe77fb68523",
   "metadata": {},
   "source": [
    "27. Suppose list1 is [2, 33, 222, 14, and 25], what is list1 [-1]? \n",
    "-> In Python, using a negative index accesses elements from the end of the list. Specifically, list1[-1] refers to the last element of the list.\n",
    "   Example:\n",
    "           Input: list1 = [2, 33, 222, 14, 25]\n",
    "                  list[-1]\n",
    "           Output: 25  "
   ]
  },
  {
   "cell_type": "raw",
   "id": "15da97b3-453c-42d2-bf59-b075fb13db4c",
   "metadata": {},
   "source": [
    "28. Differentiate between append () and extend () methods? \n",
    "-> The append() and extend() methods in Python are both used to add elements to a list, but they behave differently:\n",
    "\n",
    "-> append()\n",
    "   1. Purpose: Adds a single element to the end of a list.\n",
    "   2. Behavior: The element added can be of any data type(including another list), but it is treated as a single entity.\n",
    "   3. Example:\n",
    "              Input: my_list = [1, 2, 3]\n",
    "                     my_list.append(4)\n",
    "                     my_list.append([5, 6])\n",
    "                     print(my_list)\n",
    "              Output: [1, 2, 3, 4, [5, 6]]\n",
    "\n",
    "-> extend()\n",
    "   1. Purpose: Adds multiple elements to the end of a list.\n",
    "   2. Behavior: The elements from the iterable (e.g., another list) are unpacked and added individually to the list.\n",
    "   3. Example: \n",
    "              Input: my_list = [1, 2, 3]\n",
    "                     my_list.extend(4)\n",
    "                     my_list.extend([4, 5])\n",
    "                     print(my_list)\n",
    "              Output: [1, 2, 3, 4, 5]\n",
    "\n",
    "-> Summary\n",
    "   :- Use append() to add a single item, which could be a list itself.\n",
    "   :- Use extend() to add multiple items from an iterable, expanding the list."
   ]
  },
  {
   "cell_type": "code",
   "execution_count": 26,
   "id": "10f0e5bb-f475-4a0b-a5bf-05300d7d8dfe",
   "metadata": {},
   "outputs": [
    {
     "name": "stdout",
     "output_type": "stream",
     "text": [
      "Largest number: 40\n",
      "Smallest number: 5\n",
      "Sum of all numbers: 90\n"
     ]
    }
   ],
   "source": [
    "# 29. Write a Python function to get the largest number, smallest num and sum of all from a list. \n",
    "\n",
    "def get_list_stats(numbers):\n",
    "    if not numbers:  \n",
    "        return None, None, 0\n",
    "\n",
    "    largest = max(numbers)  \n",
    "    smallest = min(numbers)  \n",
    "    total_sum = sum(numbers)  \n",
    "\n",
    "    return largest, smallest, total_sum\n",
    "\n",
    "numbers = [10, 20, 5, 40, 15]\n",
    "largest, smallest, total_sum = get_list_stats(numbers)  \n",
    "print(\"Largest number:\", largest)\n",
    "print(\"Smallest number:\", smallest)\n",
    "print(\"Sum of all numbers:\", total_sum)"
   ]
  },
  {
   "cell_type": "raw",
   "id": "b96ff610-1fc9-4235-9bed-dd62d7cc301c",
   "metadata": {},
   "source": [
    "30. How will you compare two lists? \n",
    "-> To compare two lists in Python, you can use the following methods:\n",
    "   \n",
    "   1. Equality Comparison (==): Checks if two lists have the same elements in the same order.\n",
    "         Example: list1 == list2\n",
    "   \n",
    "   2. Element-wise Comparison with all(): Compares each corresponding element of two lists.\n",
    "         Example: all(a == b for a, b in zip(list1, list2))\n",
    "\n",
    "   3. Unordered Comparison with set(): Checks if two lists contain the same unique elements, regardless of order.\n",
    "         Example: set(list1) == set(list2)\n",
    "\n",
    "   4. Length Comparison: Compares the lengths of two lists to see if they have the same number of elements.\n",
    "         Example: len(list1) == len(list2)\n",
    "\n",
    "-> These methods allow you to check for equality, size, and order of elements in lists effectively."
   ]
  },
  {
   "cell_type": "code",
   "execution_count": 27,
   "id": "2d5cbc71-2040-434d-ae53-716b9ee0c67f",
   "metadata": {},
   "outputs": [
    {
     "name": "stdout",
     "output_type": "stream",
     "text": [
      "The number of strings with matching first and last characters is: 5\n"
     ]
    }
   ],
   "source": [
    "# 31. Write a Python program to count the number of strings where the string length is 2 or more and the first and last character are same from a given list of strings. \n",
    "\n",
    "def count_strings(strings):\n",
    "    count = 0\n",
    "    for string in strings:\n",
    "        if len(string) >= 2 and string[0] == string[-1]:\n",
    "            count += 1\n",
    "    return count\n",
    "\n",
    "strings_list = ['abc', 'xyz', 'aba', '1221', 'aa', 'abba', 'defed']\n",
    "result = count_strings(strings_list)\n",
    "print(f\"The number of strings with matching first and last characters is: {result}\")"
   ]
  },
  {
   "cell_type": "code",
   "execution_count": 28,
   "id": "b5cd5d09-1cea-4cb6-94cb-8d9685b5e4b0",
   "metadata": {},
   "outputs": [
    {
     "name": "stdout",
     "output_type": "stream",
     "text": [
      "List after removing duplicates: [1, 2, 3, 4, 5, 6, 7]\n"
     ]
    }
   ],
   "source": [
    "# 32. Write a Python program to remove duplicates from a list. \n",
    "\n",
    "def remove_duplicates(input_list):\n",
    "    return list(set(input_list))\n",
    "\n",
    "my_list = [1, 2, 2, 3, 4, 4, 5, 6, 6, 7]\n",
    "result = remove_duplicates(my_list)\n",
    "print(f\"List after removing duplicates: {result}\")"
   ]
  },
  {
   "cell_type": "code",
   "execution_count": 29,
   "id": "92b5e23d-4e1c-4799-93b1-4cdd2ea6a319",
   "metadata": {},
   "outputs": [
    {
     "name": "stdout",
     "output_type": "stream",
     "text": [
      "The list is empty.\n"
     ]
    }
   ],
   "source": [
    "# 33. Write a Python program to check a list is empty or not. \n",
    "\n",
    "def is_list_empty(input_list):\n",
    "    return len(input_list) == 0\n",
    "\n",
    "my_list = []\n",
    "if is_list_empty(my_list):\n",
    "    print(\"The list is empty.\")\n",
    "else:\n",
    "    print(\"The list is not empty.\")"
   ]
  },
  {
   "cell_type": "code",
   "execution_count": 30,
   "id": "5b537a8b-3a85-4ffb-9275-ef4a84dd5c02",
   "metadata": {},
   "outputs": [
    {
     "name": "stdout",
     "output_type": "stream",
     "text": [
      "True\n"
     ]
    }
   ],
   "source": [
    "# 34. Write a Python function that takes two lists and returns true if they have at least one common member.\n",
    "\n",
    "def have_common_member(list1, list2):\n",
    "    return bool(set(list1) & set(list2))\n",
    "\n",
    "list1 = [1, 2, 3, 4]\n",
    "list2 = [4, 5, 6, 7]\n",
    "\n",
    "print(have_common_member(list1, list2))  # Output: True"
   ]
  },
  {
   "cell_type": "code",
   "execution_count": 31,
   "id": "2563ab85-fab4-4512-9622-14f59bb857aa",
   "metadata": {},
   "outputs": [
    {
     "name": "stdout",
     "output_type": "stream",
     "text": [
      "[1, 4, 9, 16, 25, 676, 729, 784, 841, 900]\n"
     ]
    }
   ],
   "source": [
    "# 35. Write a Python program to generate and print a list of first and last 5 elements where the values are square of numbers between 1 and 30. \n",
    "\n",
    "def generate_squares():\n",
    "    squares = [x**2 for x in range(1, 31)]\n",
    "    \n",
    "    result = squares[:5] + squares[-5:]\n",
    "    return result\n",
    "\n",
    "print(generate_squares())"
   ]
  },
  {
   "cell_type": "code",
   "execution_count": 32,
   "id": "066f53db-8a79-4ad2-92e6-5961445169f2",
   "metadata": {},
   "outputs": [
    {
     "name": "stdout",
     "output_type": "stream",
     "text": [
      "[1, 2, 3, 4, 5]\n"
     ]
    }
   ],
   "source": [
    "# 36. Write a Python function that takes a list and returns a new list with unique elements of the first list. \n",
    "\n",
    "def get_unique_elements(input_list):\n",
    "    return list(set(input_list))\n",
    "\n",
    "original_list = [1, 2, 2, 3, 4, 4, 5, 5, 5]\n",
    "unique_list = get_unique_elements(original_list)\n",
    "print(unique_list)"
   ]
  },
  {
   "cell_type": "code",
   "execution_count": 33,
   "id": "077f5df6-1a15-4317-8ce7-9f4488c9df69",
   "metadata": {},
   "outputs": [
    {
     "name": "stdout",
     "output_type": "stream",
     "text": [
      "The converted string is: Hello World\n"
     ]
    }
   ],
   "source": [
    "# 37. Write a Python program to convert a list of characters into a string. \n",
    "\n",
    "char_list = ['H', 'e', 'l', 'l', 'o', ' ', 'W', 'o', 'r', 'l', 'd']\n",
    "\n",
    "result_string = ''.join(char_list)\n",
    "\n",
    "print(\"The converted string is:\", result_string)"
   ]
  },
  {
   "cell_type": "code",
   "execution_count": 34,
   "id": "4261bc62-d346-4de6-a70e-219ac9251db7",
   "metadata": {},
   "outputs": [
    {
     "name": "stdout",
     "output_type": "stream",
     "text": [
      "The randomly selected item is: 5\n"
     ]
    }
   ],
   "source": [
    "# 38. Write a Python program to select an item randomly from a list. \n",
    "\n",
    "import random\n",
    "\n",
    "items = [1, 2, 3, 4, 5, \"apple\", \"banana\", \"cherry\"]\n",
    "\n",
    "random_item = random.choice(items)\n",
    "\n",
    "print(\"The randomly selected item is:\", random_item)"
   ]
  },
  {
   "cell_type": "code",
   "execution_count": 35,
   "id": "3a7d2b08-90ad-4d5e-a393-358a4114ff18",
   "metadata": {},
   "outputs": [
    {
     "name": "stdout",
     "output_type": "stream",
     "text": [
      "The second smallest number is: 5\n"
     ]
    }
   ],
   "source": [
    "# 39. Write a Python program to find the second smallest number in a list. \n",
    "\n",
    "numbers = [10, 5, 3, 8, 6, 3, 12]\n",
    "\n",
    "unique_numbers = sorted(set(numbers))\n",
    "\n",
    "if len(unique_numbers) < 2:\n",
    "    print(\"There is no second smallest number.\")\n",
    "else:\n",
    "    second_smallest = unique_numbers[1]\n",
    "    print(\"The second smallest number is:\", second_smallest)"
   ]
  },
  {
   "cell_type": "code",
   "execution_count": 8,
   "id": "cf5eaa5c-df4e-465d-af5b-219b67489e65",
   "metadata": {},
   "outputs": [
    {
     "name": "stdout",
     "output_type": "stream",
     "text": [
      "The unique values are: [1, 2, 3, 4, 5, 6]\n"
     ]
    }
   ],
   "source": [
    "# 40. Write a Python program to get unique values from a list \n",
    "\n",
    "my_list = [1, 2, 2, 3, 4, 4, 5, 6, 6]\n",
    "\n",
    "unique_values = list(set(my_list))\n",
    "\n",
    "print(\"The unique values are:\", unique_values)"
   ]
  },
  {
   "cell_type": "code",
   "execution_count": 36,
   "id": "0aa04314-d62d-4234-9560-673596b28c57",
   "metadata": {},
   "outputs": [
    {
     "name": "stdout",
     "output_type": "stream",
     "text": [
      "The main list contains the sublist.\n"
     ]
    }
   ],
   "source": [
    "# 41. Write a Python program to check whether a list contains a sub list \n",
    "\n",
    "main_list = [1, 2, 3, 4, 5, 6, 7]\n",
    "sub_list = [3, 4, 5]\n",
    "\n",
    "def contains_sublist(main_list, sub_list):\n",
    "    len_main = len(main_list)\n",
    "    len_sub = len(sub_list)\n",
    "\n",
    "    for i in range(len_main - len_sub + 1):\n",
    "        if main_list[i:i + len_sub] == sub_list:\n",
    "            return True\n",
    "    return False\n",
    "\n",
    "if contains_sublist(main_list, sub_list):\n",
    "    print(\"The main list contains the sublist.\")\n",
    "else:\n",
    "    print(\"The main list does not contain the sublist.\")"
   ]
  },
  {
   "cell_type": "code",
   "execution_count": 37,
   "id": "9c573302-04e7-4356-ab4d-bbd09cd7b3aa",
   "metadata": {},
   "outputs": [
    {
     "name": "stdout",
     "output_type": "stream",
     "text": [
      "a = 1\n",
      "b = 2\n",
      "c = 3\n",
      "d = 4\n",
      "e = 5\n"
     ]
    }
   ],
   "source": [
    "# 42. Write a Python program to split a list into different variables \n",
    "\n",
    "my_list = [1, 2, 3, 4, 5]\n",
    "\n",
    "a, b, c, d, e = my_list\n",
    "\n",
    "print(\"a =\", a)\n",
    "print(\"b =\", b)\n",
    "print(\"c =\", c)\n",
    "print(\"d =\", d)\n",
    "print(\"e =\", e)"
   ]
  },
  {
   "cell_type": "raw",
   "id": "7c77d853-9796-4417-a356-4a9b780d8452",
   "metadata": {},
   "source": [
    "43. What is tuple? Difference between list and tuple. \n",
    "\n",
    "-> A tuple is a built-in data structure in Python that allows you to store a collection of items. It is similar to a list, but it has some important        characteristics that set it apart.\n",
    "\n",
    "-> Key Characteristics of Tuples:\n",
    "     1. Ordered: The elements in a tuple are arranged in a specific sequence. Each element can be accessed using an index.\n",
    "     2. Immutable: Once a tuple is created, its contents cannot be changed. You cannot add, remove, or modify the elements.\n",
    "     3. Heterogeneous: A tuple can contain items of different data types, such as integers, strings, and even other collections like lists or tuples.\n",
    "\n",
    "-> Difference Between List and Tuple\n",
    "____________________________________________________________________________________________________________________________________  \n",
    "|Feature\t |                List\t                                      |                        Tuple                           |\n",
    "|____________|____________________________________________________________|________________________________________________________|\n",
    "|Syntax\t     |   Created using square brackets []\t                      |  Created using parentheses ()                          |\n",
    "|------------|------------------------------------------------------------|--------------------------------------------------------|\n",
    "|Mutability\t |   Mutable (can be modified after creation)\t              |  Immutable (cannot be modified after creation)         |\n",
    "|------------|------------------------------------------------------------|--------------------------------------------------------|\n",
    "|Methods\t |   Supports many methods (e.g., adding, removing elements)  |\t Supports fewer methods (mostly accessing elements)    |\n",
    "|------------|------------------------------------------------------------|--------------------------------------------------------|\n",
    "|Performance |   Generally slower due to mutability\t                      |  Typically faster because of immutability              |\n",
    "|------------|------------------------------------------------------------|--------------------------------------------------------|\n",
    "|Use Case\t |   Ideal for collections that may change\t                  |  Ideal for fixed collections that should not change    |\n",
    "|____________|____________________________________________________________|________________________________________________________|"
   ]
  },
  {
   "cell_type": "code",
   "execution_count": 38,
   "id": "12493b5d-5bb3-4dd5-85c5-f2700be29ddb",
   "metadata": {},
   "outputs": [
    {
     "name": "stdout",
     "output_type": "stream",
     "text": [
      "Tuple with different data types:\n",
      "(1, 'Hello', 3.14, True, None)\n",
      "\n",
      "Accessing elements:\n",
      "Integer: 1\n",
      "String: Hello\n",
      "Float: 3.14\n",
      "Boolean: True\n",
      "NoneType: None\n",
      "\n",
      "Length of the tuple: 5\n"
     ]
    }
   ],
   "source": [
    "# 44. Write a Python program to create a tuple with different data types. \n",
    "\n",
    "my_tuple = (1, \"Hello\", 3.14, True, None)\n",
    "\n",
    "print(\"Tuple with different data types:\")\n",
    "print(my_tuple)\n",
    "\n",
    "print(\"\\nAccessing elements:\")\n",
    "print(\"Integer:\", my_tuple[0])\n",
    "print(\"String:\", my_tuple[1])\n",
    "print(\"Float:\", my_tuple[2])\n",
    "print(\"Boolean:\", my_tuple[3])\n",
    "print(\"NoneType:\", my_tuple[4])\n",
    "\n",
    "print(\"\\nLength of the tuple:\", len(my_tuple))"
   ]
  },
  {
   "cell_type": "code",
   "execution_count": 39,
   "id": "b72ba68e-480b-429f-bf1e-edde54991313",
   "metadata": {},
   "outputs": [
    {
     "name": "stdout",
     "output_type": "stream",
     "text": [
      "List 1: [1, 2, 3, 4]\n",
      "List 2: ['apple', 'banana', 'cherry', 'date']\n"
     ]
    }
   ],
   "source": [
    "# 45. Write a Python program to unzip a list of tuples into individual lists. \n",
    "\n",
    "tuple_list = [(1, 'apple'), (2, 'banana'), (3, 'cherry'), (4, 'date')]\n",
    "\n",
    "list1, list2 = zip(*tuple_list)\n",
    "\n",
    "list1 = list(list1)\n",
    "list2 = list(list2)\n",
    "\n",
    "print(\"List 1:\", list1)\n",
    "print(\"List 2:\", list2)"
   ]
  },
  {
   "cell_type": "code",
   "execution_count": 40,
   "id": "b29fc8bd-0090-49c2-87f4-1b667c454793",
   "metadata": {},
   "outputs": [
    {
     "name": "stdout",
     "output_type": "stream",
     "text": [
      "Dictionary: {'a': 1, 'b': 2, 'c': 3, 'd': 4}\n"
     ]
    }
   ],
   "source": [
    "# 46. Write a Python program to convert a list of tuples into a dictionary. \n",
    "\n",
    "tuple_list = [('a', 1), ('b', 2), ('c', 3), ('d', 4)]\n",
    "\n",
    "dictionary = dict(tuple_list)\n",
    "\n",
    "print(\"Dictionary:\", dictionary)"
   ]
  },
  {
   "cell_type": "raw",
   "id": "d156672d-c3fb-4bdf-a5e7-7214db52e9ef",
   "metadata": {},
   "source": [
    "47. How will you create a dictionary using tuples in python? \n",
    "-> A dictionary in Python is a collection of key-value pairs. To create a dictionary from a list of tuples, each tuple should contain two elements: the     first element will be the key and the second element will be the value.\n",
    "        -> Example 1: Using the dict() function\n",
    "           -> You can use the built-in dict() function to convert a list of tuples into a dictionary.\n",
    "               Input:\n",
    "                   # Step 1: Define a list of tuples\n",
    "                   tuple_list = [('apple', 1), ('banana', 2), ('cherry', 3)]\n",
    "\n",
    "                   # Step 2: Convert the list of tuples into a dictionary\n",
    "                   fruit_dict = dict(tuple_list)\n",
    "\n",
    "                   # Step 3: Print the dictionary\n",
    "                   print(\"Fruit Dictionary:\", fruit_dict)\n",
    "               Output:\n",
    "                   Fruit Dictionary: {'apple': 1, 'banana': 2, 'cherry': 3}\n",
    "\n",
    "        -> Example 2: Using a Loop\n",
    "            -> Alternatively, you can create a dictionary by looping through the list of tuples.\n",
    "                Input: \n",
    "                    # Step 1: Define a list of tuples\n",
    "                    tuple_list = [('apple', 1), ('banana', 2), ('cherry', 3)]\n",
    "\n",
    "                    # Step 2: Initialize an empty dictionary\n",
    "                    fruit_dict = {}\n",
    "\n",
    "                    # Step 3: Loop through the list of tuples\n",
    "                    for key, value in tuple_list:\n",
    "                    fruit_dict[key] = value  # Assign key-value pairs to the dictionary\n",
    "\n",
    "                    # Step 4: Print the dictionary\n",
    "                    print(\"Fruit Dictionary:\", fruit_dict)\n",
    "                Output:\n",
    "                    Fruit Dictionary: {'apple': 1, 'banana': 2, 'cherry': 3}\n",
    "\n",
    "-> Conclusion:\n",
    "    -> Both methods are effective for creating a dictionary from tuples. The dict() function is more concise, while the loop method provides more               control and can be modified easily for additional logic if needed. Use the method that best suits your assignment requirements!"
   ]
  },
  {
   "cell_type": "code",
   "execution_count": 41,
   "id": "3b117903-26de-4fe5-a1aa-9c1c4330feec",
   "metadata": {},
   "outputs": [
    {
     "name": "stdout",
     "output_type": "stream",
     "text": [
      "Sorted Dictionary (Ascending): {'date': 1, 'banana': 2, 'apple': 5, 'cherry': 7}\n",
      "Sorted Dictionary (Descending): {'cherry': 7, 'apple': 5, 'banana': 2, 'date': 1}\n"
     ]
    }
   ],
   "source": [
    "# 48. Write a Python script to sort (ascending and descending) a dictionary by value. \n",
    "\n",
    "my_dict = {'apple': 5, 'banana': 2, 'cherry': 7, 'date': 1}\n",
    "\n",
    "sorted_asc = dict(sorted(my_dict.items(), key=lambda item: item[1]))\n",
    "\n",
    "sorted_desc = dict(sorted(my_dict.items(), key=lambda item: item[1], reverse=True))\n",
    "\n",
    "print(\"Sorted Dictionary (Ascending):\", sorted_asc)\n",
    "print(\"Sorted Dictionary (Descending):\", sorted_desc)"
   ]
  },
  {
   "cell_type": "code",
   "execution_count": 42,
   "id": "8a441615-bedf-4fb9-825f-7f1ae9a1d0e6",
   "metadata": {},
   "outputs": [
    {
     "name": "stdout",
     "output_type": "stream",
     "text": [
      "Concatenated dictionary: {'a': 1, 'b': 2, 'c': 3, 'd': 4, 'e': 5, 'f': 6}\n"
     ]
    }
   ],
   "source": [
    "# 49. Write a Python script to concatenate following dictionaries to create a new one. \n",
    "\n",
    "dict1 = {'a': 1, 'b': 2}\n",
    "dict2 = {'c': 3, 'd': 4}\n",
    "dict3 = {'e': 5, 'f': 6}\n",
    "\n",
    "new_dict = {**dict1, **dict2, **dict3}\n",
    "\n",
    "print(\"Concatenated dictionary:\", new_dict)"
   ]
  },
  {
   "cell_type": "code",
   "execution_count": 43,
   "id": "5fa22254-0ee7-4b6e-bee4-452bc3d15ca3",
   "metadata": {},
   "outputs": [
    {
     "name": "stdout",
     "output_type": "stream",
     "text": [
      "The key 'b' exists in the dictionary.\n"
     ]
    }
   ],
   "source": [
    "# 50. Write a Python script to check if a given key already exists in a dictionary. \n",
    "\n",
    "my_dict = {'a': 1, 'b': 2, 'c': 3}\n",
    "\n",
    "key_to_check = 'b'\n",
    "\n",
    "if key_to_check in my_dict:\n",
    "    print(f\"The key '{key_to_check}' exists in the dictionary.\")\n",
    "else:\n",
    "    print(f\"The key '{key_to_check}' does not exist in the dictionary.\")"
   ]
  },
  {
   "cell_type": "raw",
   "id": "ad5226eb-8237-4f5e-865b-2f7631d01851",
   "metadata": {},
   "source": [
    "51. How Do You Traverse Through a Dictionary Object in Python? \n",
    "-> Traversing a dictionary in Python means going through each item it contains, which can be done in a few different ways. Here’s an easy-to-understand     guide for your assignment.\n",
    "\n",
    "-> What is a Dictionary?\n",
    "    -> A dictionary in Python stores data as key-value pairs. \n",
    "        -> Example: \n",
    "            -> Input: my_dict = {'name': 'Tirth', 'age': 22, 'city': 'Ahmedabad'}\n",
    "            -> In this dictionary: 'name', 'age', and 'city' are keys\n",
    "                                   'Tirth', 22, and 'Ahmedabda' are values\n",
    "\n",
    "-> Ways to Traverse a Dictionary\n",
    "    -> You can loop through dictionaries in three main ways:\n",
    "        1. Loop Through the Keys Only:\n",
    "          -> To get just the keys from a dictionary, you can use a for loop like this:\n",
    "          -> Input: for key in my_dict:\n",
    "                        print(\"Key:\", key)\n",
    "          -> Explanation: This loop goes through each key in the dictionary. \n",
    "          -> Output: Key: name\n",
    "                     Key: age\n",
    "                     Key: city\n",
    "\n",
    "        2. Loop Through the Values Only:\n",
    "          -> If you want only the values, use .values():\n",
    "          -> Input: for value in my_dict.values():\n",
    "                        print(\"Value:\", value)\n",
    "          -> Explanation: Here, we’re getting each value (like 'Alice', 25, etc.) in the dictionary. \n",
    "          -> Output: Value: Alice\n",
    "                     Value: 25\n",
    "                     Value: New York\n",
    "        \n",
    "        3. Loop Through Both Keys and Values\n",
    "          -> To get both the key and the value together, use .items():\n",
    "          -> Input: for key, value in my_dict.items():\n",
    "                        print(\"Key:\", key, \"Value:\", value)\n",
    "          -> Explanation: This goes through each key-value pair. \n",
    "          -> Output: Key: name Value: Alice\n",
    "                     Key: age Value: 25\n",
    "                     Key: city Value: New York\n",
    "\n",
    "-> Summary\n",
    "        Keys only: for key in my_dict\n",
    "        Values only: for value in my_dict.values()\n",
    "        Both keys and values: for key, value in my_dict.items()"
   ]
  },
  {
   "cell_type": "raw",
   "id": "2ebb137e-b16f-4521-b586-4b15fb78f488",
   "metadata": {},
   "source": [
    "52. How Do You Check the Presence of a Key in A Dictionary? \n",
    "-> To check if a key exists in a dictionary in Python, you can use a simple approach with the in keyword. Here’s a straightforward explanation for your     assignment.\n",
    "\n",
    "-> Why Check for a Key?\n",
    "    -> In Python, dictionaries store data as key-value pairs. Before you try to access the value of a key, it's a good idea to check if that keyexists.         If the key isn't there, you might get an error.\n",
    "\n",
    "-> How to Check if a Key Exists\n",
    "    -> The easiest way to check for a key in a dictionary is to use the in keyword.\n",
    "\n",
    "-> Example\n",
    "    -> # Sample dictionary\n",
    "       my_dict = {'name': 'Alice', 'age': 25, 'city': 'New York'}\n",
    "\n",
    "       # Key to check\n",
    "       key_to_check = 'age'\n",
    "\n",
    "       # Checking if the key exists\n",
    "       if key_to_check in my_dict:\n",
    "           print(f\"The key '{key_to_check}' is present in the dictionary.\")\n",
    "       else:\n",
    "           print(f\"The key '{key_to_check}' is not present in the dictionary.\")\n",
    "\n",
    "    -> Explanation\n",
    "        -> in keyword: \n",
    "            :- key_to_check in my_dict checks if the key ('age' in this case) exists in my_dict.\n",
    "            :- If the key is found, it will print a message confirming its presence. If not, it will print that the key is not present.\n",
    "    \n",
    "    -> Output: The key 'age' is present in the dictionary.\n",
    "\n",
    "-> Summary\n",
    "    -> To check for a key:\n",
    "        :- Use if key in dictionary for a quick check.\n",
    "        :- Output will tell you if the key is there or not."
   ]
  },
  {
   "cell_type": "code",
   "execution_count": 44,
   "id": "b8f177d9-9e6b-4a5e-8b94-416c65b1f6eb",
   "metadata": {},
   "outputs": [
    {
     "name": "stdout",
     "output_type": "stream",
     "text": [
      "Dictionary with keys 1 to 15 and their squares as values:\n",
      "{1: 1, 2: 4, 3: 9, 4: 16, 5: 25, 6: 36, 7: 49, 8: 64, 9: 81, 10: 100, 11: 121, 12: 144, 13: 169, 14: 196, 15: 225}\n"
     ]
    }
   ],
   "source": [
    "# 53. Write a Python script to print a dictionary where the keys are numbers between 1 and 15. \n",
    "\n",
    "number_dict = {key: key**2 for key in range(1, 16)}\n",
    "\n",
    "print(\"Dictionary with keys 1 to 15 and their squares as values:\")\n",
    "print(number_dict)"
   ]
  },
  {
   "cell_type": "code",
   "execution_count": 45,
   "id": "0ba2f96a-d7a2-431d-946f-7bf942bc117c",
   "metadata": {},
   "outputs": [
    {
     "name": "stdout",
     "output_type": "stream",
     "text": [
      "All keys exist in the dictionary.\n"
     ]
    }
   ],
   "source": [
    "# 54. Write a Python program to check multiple keys exists in a dictionary.\n",
    "\n",
    "my_dict = {'name': 'Alice', 'age': 25, 'city': 'New York'}\n",
    "\n",
    "keys_to_check = ['name', 'age']\n",
    "\n",
    "if (key in my_dict for key in keys_to_check):\n",
    "    print(\"All keys exist in the dictionary.\")\n",
    "else:\n",
    "    print(\"Not all keys exist in the dictionary.\")"
   ]
  },
  {
   "cell_type": "code",
   "execution_count": 46,
   "id": "4483c889-4db2-4860-b2f1-e9ebe4ed5522",
   "metadata": {},
   "outputs": [
    {
     "name": "stdout",
     "output_type": "stream",
     "text": [
      "Merged dictionary using '|': {'a': 1, 'b': 2, 'c': 3, 'd': 4}\n",
      "Merged dictionary using update(): {'a': 1, 'b': 2, 'c': 3, 'd': 4}\n"
     ]
    }
   ],
   "source": [
    "# 55. Write a Python script to merge two Python dictionaries \n",
    " \n",
    "dict1 = {'a': 1, 'b': 2}\n",
    "dict2 = {'c': 3, 'd': 4}\n",
    "\n",
    "merged_dict = dict1 | dict2\n",
    "print(\"Merged dictionary using '|':\", merged_dict)\n",
    "\n",
    "dict1.update(dict2)\n",
    "print(\"Merged dictionary using update():\", dict1)"
   ]
  },
  {
   "cell_type": "code",
   "execution_count": 47,
   "id": "0e26ae99-baab-47d7-b1fa-20f53380af22",
   "metadata": {},
   "outputs": [
    {
     "name": "stdout",
     "output_type": "stream",
     "text": [
      "Mapped dictionary: {'a': 400, 'b': 400, 'c': 300, 'd': 400}\n"
     ]
    }
   ],
   "source": [
    "# 56. Write a Python program to map two lists into a dictionary - Sample output: Counter ({'a': 400, 'b': 400,’d’: 400, 'c': 300}).\n",
    "\n",
    "keys = ['a', 'b', 'c', 'd']\n",
    "values = [400, 400, 300, 400]\n",
    "\n",
    "mapped_dict = dict(zip(keys, values))\n",
    "\n",
    "print(\"Mapped dictionary:\", mapped_dict)"
   ]
  },
  {
   "cell_type": "code",
   "execution_count": 48,
   "id": "81902f59-2c05-4970-8108-95b11ab3c50d",
   "metadata": {},
   "outputs": [
    {
     "name": "stdout",
     "output_type": "stream",
     "text": [
      "The highest three values are: [30, 25, 20]\n"
     ]
    }
   ],
   "source": [
    "# 57. Write a Python program to find the highest 3 values in a dictionary.\n",
    "\n",
    "def find_highest_three_values(input_dict):\n",
    "    if len(input_dict) < 3:\n",
    "        return \"The dictionary must have at least three items.\"\n",
    "\n",
    "    highest_values = sorted(input_dict.values(), reverse=True)[:3]\n",
    "    return highest_values\n",
    "\n",
    "sample_dict = {\n",
    "    'a': 10,\n",
    "    'b': 20,\n",
    "    'c': 30,\n",
    "    'd': 25,\n",
    "    'e': 15\n",
    "}\n",
    "\n",
    "result = find_highest_three_values(sample_dict)\n",
    "print(\"The highest three values are:\", result)"
   ]
  },
  {
   "cell_type": "code",
   "execution_count": 49,
   "id": "a57424ac-b17e-4fa1-901b-b222b9573df2",
   "metadata": {},
   "outputs": [
    {
     "name": "stdout",
     "output_type": "stream",
     "text": [
      "Counter: Counter({'item1': 1150, 'item2': 300})\n"
     ]
    }
   ],
   "source": [
    "# 58. Write a Python program to combine values in python list of dictionaries.\n",
    "#     Sample data: [{'item': 'item1', 'amount': 400}, {'item': 'item2', 'amount':300}, {'item': 'item1', 'amount': 750}]\n",
    "#     Expected Output: Counter ({'item1': 1150, 'item2': 300})\n",
    "\n",
    "from collections import Counter\n",
    "\n",
    "def combine_values(data):\n",
    "    combined = Counter()\n",
    "\n",
    "    for entry in data:\n",
    "        item = entry['item']\n",
    "        amount = entry['amount']\n",
    "        combined[item] += amount\n",
    "\n",
    "    return combined\n",
    "\n",
    "sample_data = [\n",
    "    {'item': 'item1', 'amount': 400},\n",
    "    {'item': 'item2', 'amount': 300},\n",
    "    {'item': 'item1', 'amount': 750}\n",
    "]\n",
    "\n",
    "result = combine_values(sample_data)\n",
    "print(\"Counter:\", result)"
   ]
  },
  {
   "cell_type": "code",
   "execution_count": 1,
   "id": "beb94b0a-3b0f-4fb5-a5f0-30938b210534",
   "metadata": {},
   "outputs": [
    {
     "name": "stdout",
     "output_type": "stream",
     "text": [
      "Letter count: {'h': 1, 'e': 1, 'l': 3, 'o': 2, 'w': 1, 'r': 1, 'd': 1}\n"
     ]
    }
   ],
   "source": [
    "# 59. Write a Python program to create a dictionary from a string. Note: Track the count of the letters from the string. \n",
    "\n",
    "def count_letters(input_string):\n",
    "    letter_count = {}\n",
    "\n",
    "    for char in input_string:\n",
    "        char = char.lower()\n",
    "        \n",
    "        if char.isalpha():\n",
    "            if char in letter_count:\n",
    "                letter_count[char] += 1\n",
    "            else:\n",
    "                letter_count[char] = 1\n",
    "    return letter_count\n",
    "\n",
    "sample_string = \"Hello, World!\"\n",
    "result = count_letters(sample_string)\n",
    "print(\"Letter count:\", result)"
   ]
  },
  {
   "cell_type": "code",
   "execution_count": 18,
   "id": "92b4f60c-ba34-4b86-8a83-51fde2326eb1",
   "metadata": {},
   "outputs": [
    {
     "name": "stdout",
     "output_type": "stream",
     "text": [
      "Character count: {'w': 1, '3': 1, 'r': 2, 'e': 2, 's': 1, 'o': 1, 'u': 1, 'c': 1}\n"
     ]
    }
   ],
   "source": [
    "# 60. Sample string: 'w3resource' Expected output: {'3': 1,’s’: 1, 'r': 2, 'u': 1, 'w': 1, 'c': 1, 'e': 2, 'o': 1}\n",
    "\n",
    "input_string = 'w3resource'\n",
    "\n",
    "char_count = {}\n",
    "\n",
    "for char in input_string:\n",
    "    if char in char_count:\n",
    "        char_count[char] += 1\n",
    "    else:\n",
    "        char_count[char] = 1\n",
    "\n",
    "print(\"Character count:\", char_count)"
   ]
  },
  {
   "cell_type": "code",
   "execution_count": 23,
   "id": "8f5458e7-3ff3-4a44-9ace-fe51117692bf",
   "metadata": {},
   "outputs": [
    {
     "name": "stdin",
     "output_type": "stream",
     "text": [
      "Enter a number: 5\n"
     ]
    },
    {
     "name": "stdout",
     "output_type": "stream",
     "text": [
      "The factorial of 5 is 120.\n"
     ]
    }
   ],
   "source": [
    "# 61. Write a Python function to calculate the factorial of a number (a non negative integer) \n",
    "\n",
    "def factorial(n):\n",
    "    if n < 0:\n",
    "        raise ValueError(\"Input must be a non-negative integer.\")\n",
    "    if n == 0 or n == 1:\n",
    "        return 1\n",
    "    result = 1\n",
    "    for i in range(2, n + 1):\n",
    "        result *= i\n",
    "    return result\n",
    "\n",
    "number = int(input(\"Enter a number:\"))\n",
    "print(f\"The factorial of {number} is {factorial(number)}.\")"
   ]
  },
  {
   "cell_type": "code",
   "execution_count": 50,
   "id": "8818b5f5-39d7-4dcb-a4c1-f2120aa8f859",
   "metadata": {},
   "outputs": [
    {
     "name": "stdout",
     "output_type": "stream",
     "text": [
      "10 is in the range [5, 15].\n"
     ]
    }
   ],
   "source": [
    "# 62. Write a Python function to check whether a number is in a given range.\n",
    "\n",
    "def is_in_range(num, start, end):    \n",
    "    return start <= num <= end\n",
    "\n",
    "number = 10\n",
    "range_start = 5\n",
    "range_end = 15\n",
    "\n",
    "if is_in_range(number, range_start, range_end):\n",
    "    print(f\"{number} is in the range [{range_start}, {range_end}].\")\n",
    "else:\n",
    "    print(f\"{number} is not in the range [{range_start}, {range_end}].\")"
   ]
  },
  {
   "cell_type": "code",
   "execution_count": 2,
   "id": "6d3a61c5-d6ac-414b-ae78-0e31ac167778",
   "metadata": {},
   "outputs": [
    {
     "name": "stdout",
     "output_type": "stream",
     "text": [
      "6 is a perfect number.\n"
     ]
    }
   ],
   "source": [
    "# 63. Write a Python function to check whether a number is perfect or not. \n",
    "\n",
    "def is_perfect(number):\n",
    "    if number < 1:\n",
    "        return False\n",
    "    \n",
    "    divisors_sum = sum([i for i in range(1, number) if number % i == 0])\n",
    "    \n",
    "    return divisors_sum == number\n",
    "\n",
    "num = 6\n",
    "if is_perfect(num):\n",
    "    print(f\"{num} is a perfect number.\")\n",
    "else:\n",
    "    print(f\"{num} is not a perfect number.\")"
   ]
  },
  {
   "cell_type": "code",
   "execution_count": 51,
   "id": "386473b4-6687-4cef-bbee-7c7114f19389",
   "metadata": {},
   "outputs": [
    {
     "name": "stdout",
     "output_type": "stream",
     "text": [
      "True\n"
     ]
    }
   ],
   "source": [
    "# 64. Write a Python function that checks whether a passed string is palindrome or not.\n",
    "\n",
    "def is_palindrome(string):\n",
    "    string = string.lower()\n",
    "    string = string.replace(\" \", \"\")\n",
    "    return string == string[::-1]\n",
    "\n",
    "input_string = \"racecar\"\n",
    "print(is_palindrome(input_string)) "
   ]
  },
  {
   "cell_type": "raw",
   "id": "62f2f0d6-80c1-4c08-ba90-5d0885f43a16",
   "metadata": {},
   "source": [
    "65. How Many Basic Types of Functions Are Available in Python? \n",
    "-> In Python, there are two basic types of functions:\n",
    "\n",
    "    1. Built-in Functions\n",
    "        -> These are functions that are already defined in Python and can be used directly without needing to write any code for them.\n",
    "        -> Examples include print(), len(), type(), input(), and sum().\n",
    "        -> Built-in functions are part of the Python language itself, so you don’t have to define them to use them.\n",
    "    -> Example: \n",
    "        -> Input: print(\"Hello, World!\")  # 'print()' is a built-in function\n",
    "                  length = len(\"Python\")  # 'len()' gives the length of the string\n",
    "\n",
    "    2. User-defined Functions\n",
    "        -> These are functions that you create yourself to perform specific tasks.\n",
    "        -> You define these functions using the def keyword, followed by the function name and any parameters it needs.\n",
    "        -> User-defined functions are useful when you need to repeat certain operations multiple times in your code.\n",
    "    -> Example:\n",
    "        -> Input: def greet(name):\n",
    "                  return f\"Hello, {name}!\"\n",
    "                  print(greet(\"Alice\"))\n",
    "\n",
    "-> Summary\n",
    "    -> Built-in Functions: Ready-made functions provided by Python (like print() and len()).\n",
    "    -> User-defined Functions: Functions that you create yourself for specific tasks."
   ]
  },
  {
   "cell_type": "raw",
   "id": "44b2ce48-741e-425b-9647-310a28b3c85d",
   "metadata": {},
   "source": [
    "66. How can you pick a random item from a list or tuple? \n",
    "-> To pick a random item from a list or tuple in Python, you can use the choice() function from the random module. This is a built-in function in Python    that helps you choose a random element from a sequence (like a list or tuple).\n",
    "\n",
    "-> How to Pick a Random Item Step-by-Step\n",
    "    -> Import the random module at the beginning of your program. The random module has functions to work with random values.\n",
    "    -> Use random.choice() and pass the list or tuple you want to choose from as an argument. This function will then pick one item randomly from that          list or tuple.\n",
    "\n",
    "-> Example:\n",
    "    -> Input: import random\n",
    "\n",
    "              # Example list and tuple\n",
    "              my_list = [10, 20, 30, 40, 50]\n",
    "              my_tuple = ('apple', 'banana', 'cherry', 'date')\n",
    "            \n",
    "              # Picking a random item from the list\n",
    "              random_item_from_list = random.choice(my_list)\n",
    "              print(\"Random item from list:\", random_item_from_list)\n",
    "            \n",
    "              # Picking a random item from the tuple\n",
    "              random_item_from_tuple = random.choice(my_tuple)\n",
    "              print(\"Random item from tuple:\", random_item_from_tuple)\n",
    "\n",
    "    -> Output: Random item from list: 30\n",
    "               Random item from tuple: banana\n",
    "\n",
    "-> Summary\n",
    "    -> Using random.choice() is an easy way to pick a random item from any list or tuple in Python. Just remember to import the random module first!"
   ]
  },
  {
   "cell_type": "raw",
   "id": "57a90a81-8136-45c4-9d5c-d8bf93e2bf3d",
   "metadata": {},
   "source": [
    "67. How can you pick a random item from a range? \n",
    "-> To pick a random item from a range in Python, you can use the randrange() function from the random module. This function allows you to select a          random number within a specified range.\n",
    "\n",
    "-> Steps to Pick a Random Item from a Range\n",
    "    -> Import the random module at the start of your program.\n",
    "    -> Use random.randrange(start, stop) where start is the beginning of the range, and stop is the end. This will pick a random number between start           and stop - 1 (it doesn’t include the stop value itself).\n",
    "\n",
    "-> Example: \n",
    "       -> Input: import random\n",
    "\n",
    "                 # Define the range\n",
    "                 start = 1\n",
    "                 stop = 10\n",
    "        \n",
    "                 # Pick a random number from the range 1 to 9 (stop is exclusive)\n",
    "                 random_number = random.randrange(start, stop)\n",
    "                 print(\"Random item from the range:\", random_number)\n",
    "\n",
    "        -> Output: Random item from the range: 5\n",
    "\n",
    "-> Summary \n",
    "-> To pick a random item from a range:\n",
    "       -> Use random.randrange(start, stop) after importing the random module.\n",
    "       -> Remember, the stop value is not included, so it picks a random number from start to stop - 1."
   ]
  },
  {
   "cell_type": "raw",
   "id": "6426bf46-e5a2-4647-af24-c4ec7d34fe2b",
   "metadata": {},
   "source": [
    "68. How can you get a random number in python? \n",
    "-> To get a random number in Python, you can use the random module, which comes built-in with Python. Here are a few easy ways to get random numbers:\n",
    "\n",
    "    1. Getting a Random Integer in a Range\n",
    "        -> If you want a random integer between two numbers (say between 1 and 10), you can use the randint function.\n",
    "            -> Example\n",
    "                -> Input: import random\n",
    "                          random_number = random.randint(1, 10)\n",
    "                          print(random_number)\n",
    "                -> Explanation: This will give you a random integer between 1 and 10, including both 1 and 10.\n",
    "\n",
    "    2. Getting a Random Decimal Number Between 0 and 1\n",
    "        -> If you want a random decimal (or floating-point number) between 0 and 1, you can use the random function.\n",
    "            -> Example\n",
    "                -> Input: import random\n",
    "                          random_decimal = random.random()\n",
    "                          print(random_decimal)\n",
    "                -> Explanation: This will give you a random decimal number between 0 and 1. Each time you run it, you'll get a different decimal.\n",
    "\n",
    "    3. Getting a Random Decimal Number in a Range\n",
    "        -> To get a random decimal number within a specific range (for example, between 5.5 and 10.5), you can use the uniform function.\n",
    "            -> Example\n",
    "                -> Input: import random\n",
    "                          random_decimal_range = random.uniform(5.5, 10.5)\n",
    "                          print(random_decimal_range)\n",
    "                -> Explanation: This will give you a random decimal number between 5.5 and 10.5, including both 5.5 and 10.5.\n",
    "\n",
    "-> Summary\n",
    "    -> randint(a, b) for a random integer between a and b.\n",
    "    -> random() for a random decimal between 0 and 1.\n",
    "    -> uniform(a, b) for a random decimal between a and b.\n",
    "    -> Using any of these methods is simple and will give you different random numbers each time you run them!"
   ]
  },
  {
   "cell_type": "raw",
   "id": "cf44832f-ac12-4836-88eb-5253988fbb93",
   "metadata": {},
   "source": [
    "69. How will you set the starting value in generating random numbers?\n",
    "\n",
    "-> To set the starting value (or seed) when generating random numbers in Python, you can use the seed function from the random module. Setting a seed       ensures that you get the same \"random\" numbers each time you run your code, which is helpful for testing and debugging.\n",
    "    -> Example\n",
    "        -> Input: import random\n",
    "                  # Set the seed to a specific value, e.g., 42\n",
    "                  random.seed(42)\n",
    "\n",
    "                  # Now generate random numbers\n",
    "                  print(random.randint(1, 10))\n",
    "                  print(random.random())\n",
    "        -> In this example, setting random.seed(42) means that each time you run the code, it will produce the same \"random\" numbers. You can replace 42            with any integer to get a different sequence of numbers.\n",
    "\n",
    "-> Why Use a Seed?\n",
    "    -> Reproducibility: When you set a seed, you can recreate the same sequence of random numbers. This is helpful in experiments and simulations where                          you want consistent results.\n",
    "    -> Testing: Setting a seed helps you test code with predictable outcomes, making it easier to identify issues.\n",
    "   \n",
    "-> Without setting a seed, the numbers generated by random will be different each time you run the program, which is usually the default and desired        behavior for most applications."
   ]
  },
  {
   "cell_type": "raw",
   "id": "9e18c7b2-685c-4340-9d2e-cb0abb6e362d",
   "metadata": {},
   "source": [
    "70. How will you randomize the items of a list in place? \n",
    "-> To randomize the items in a list (also known as shuffling the list) in Python, you can use the shuffle function from the random module. This function    changes the order of the list items randomly \"in place,\" which means the original list itself is modified and no new list is created.\n",
    "    -> Example\n",
    "    -> Here’s an example to shuffle a list of numbers:\n",
    "        -> Input: import random\n",
    "\n",
    "                  # Original list\n",
    "                  my_list = [1, 2, 3, 4, 5]\n",
    "\n",
    "                  # Shuffle the list\n",
    "                  random.shuffle(my_list)\n",
    "\n",
    "                  print(my_list)\n",
    "\n",
    "-> Explanation:\n",
    "    -> random.shuffle(my_list) will rearrange the items in my_list randomly.\n",
    "    -> Since shuffle works \"in place,\" it modifies my_list directly instead of creating a new list.\n",
    "    -> Each time you run this code, my_list will have a different random order.\n",
    "\n",
    "-> Important Points\n",
    "    -> In-place modification: shuffle changes the order of items directly in the original list.\n",
    "    -> Random order: Each time you shuffle, the order will be different.    \n",
    "\n",
    "-> This is useful when you need to randomize data, like shuffling a deck of cards or creating random quizzes."
   ]
  },
  {
   "cell_type": "raw",
   "id": "d5bbf14f-25b2-4080-93af-882f8fc1e76c",
   "metadata": {},
   "source": [
    "71. What is File function in python? What are keywords to create and write file. \n",
    "-> In Python, the \"File\" function usually refers to working with files using built-in functions that allow you to create, read, write, and close files.     Here’s an easy explanation of how it works:\n",
    "\n",
    "-> File Handling in Python\n",
    "    -> Python provides built-in functions to open and handle files. The main function used is open(), which opens a file so you can perform various             operations like reading or writing. When you’re done, you should always close the file using the close() method.\n",
    "\n",
    "-> Keywords and Functions to Create and Write to a File\n",
    "    1. Creating a File\n",
    "        -> Use the open() function with the mode \"w\" or \"a\" to create a new file.\n",
    "        -> \"w\" (write mode): Creates a new file if it doesn’t exist, or overwrites the file if it does exist.\n",
    "        -> \"a\" (append mode): Creates a new file if it doesn’t exist, or adds data to the end of an existing file.\n",
    "            -> Example\n",
    "                -> Input: # Creating a new file in write mode\n",
    "                          file = open(\"example.txt\", \"w\")\n",
    "\n",
    "    2. Writing to a File\n",
    "        -> Use the write() method to add text to the file.\n",
    "        -> If you use \"w\" mode, it will overwrite any existing content. If you use \"a\" mode, it will add (append) to the existing content.\n",
    "            -> Example\n",
    "                -> Input: # Writing text to the file\n",
    "                          file.write(\"Hello, this is a test.\")\n",
    "\n",
    "    3. Closing the File\n",
    "        -> After performing all operations, close the file using close(). This ensures all data is saved and frees up system resources.\n",
    "            -> Example\n",
    "                -> Input: # Closing the file\n",
    "                          file.close()\n",
    "\n",
    "-> Summary of Important Keywords\n",
    "    -> open(): Opens a file.\n",
    "    -> \"w\": Write mode, creates a file if it doesn’t exist or overwrites it.\n",
    "    -> \"a\": Append mode, creates a file if it doesn’t exist or appends to the end if it does.\n",
    "    -> write(): Writes text to the file.\n",
    "    -> close(): Closes the file."
   ]
  },
  {
   "cell_type": "code",
   "execution_count": 53,
   "id": "a2f2fdaa-e313-473f-822c-f8d73d3b2e14",
   "metadata": {},
   "outputs": [
    {
     "name": "stdout",
     "output_type": "stream",
     "text": [
      "Hello, I am learning Python.\n"
     ]
    }
   ],
   "source": [
    "# 72. Write a Python program to read an entire text file. \n",
    "\n",
    "file = open('C:\\\\Users\\\\TIRTH PATEL\\\\Desktop\\\\tirth.txt', 'r')\n",
    "\n",
    "content = file.read()\n",
    "\n",
    "print(content)\n",
    "\n",
    "file.close()"
   ]
  },
  {
   "cell_type": "code",
   "execution_count": 56,
   "id": "8dd4ef63-00c5-44f6-afec-c21e8b684bb7",
   "metadata": {},
   "outputs": [
    {
     "name": "stdout",
     "output_type": "stream",
     "text": [
      "Updated File Content:\n",
      "I am learning Data Analytics in Tops Technologies.\n",
      "Hello, My name is Tirth Patel.\n",
      "I am B.com Graduated.\n",
      "My experience in marketing field of 1.5 year.\n",
      "My favourite game is Volleyball.\n",
      "\n"
     ]
    }
   ],
   "source": [
    "# 73. Write a Python program to append text to a file and display the text. \n",
    "\n",
    "def append_and_display(file_name, text_to_append):\n",
    "    with open(file_name, 'a') as file:\n",
    "        file.write(text_to_append + '\\n') \n",
    "\n",
    "    with open(file_name, 'r') as file:\n",
    "        content = file.read()\n",
    "\n",
    "    print(\"Updated File Content:\")\n",
    "    print(content)\n",
    "\n",
    "file_name = 'Tirth_append.txt'\n",
    "text_to_append = \"My favourite game is Volleyball.\"\n",
    "append_and_display(file_name, text_to_append)"
   ]
  },
  {
   "cell_type": "code",
   "execution_count": 57,
   "id": "cdec153a-28a5-4a54-9e01-5f2a34533cb0",
   "metadata": {},
   "outputs": [
    {
     "name": "stdout",
     "output_type": "stream",
     "text": [
      "I am learning Data Analytics in Tops Technologies.\n",
      "Hello, My name is Tirth Patel.\n",
      "I am B.com Graduated.\n",
      "My experience in marketing field of 1.5 year.\n",
      "My favourite game is Volleyball.\n"
     ]
    }
   ],
   "source": [
    "# 74. Write a Python program to read first n lines of a file. \n",
    "\n",
    "def read_first_n_lines(file_name, n):\n",
    "    with open(file_name, 'r') as file:\n",
    "        for i in range(n):\n",
    "            line = file.readline()\n",
    "            if not line:\n",
    "                break\n",
    "            print(line.strip()) \n",
    "\n",
    "file_name = 'Tirth_append.txt'\n",
    "n = 5  \n",
    "read_first_n_lines(file_name, n)"
   ]
  },
  {
   "cell_type": "code",
   "execution_count": 58,
   "id": "e8587fcf-f64e-45a7-9e90-6f3343ab584d",
   "metadata": {},
   "outputs": [
    {
     "name": "stdout",
     "output_type": "stream",
     "text": [
      "I am learning Data Analytics in Tops Technologies.\n",
      "Hello, My name is Tirth Patel.\n",
      "I am B.com Graduated.\n",
      "My experience in marketing field of 1.5 year.\n",
      "My favourite game is Volleyball.\n"
     ]
    }
   ],
   "source": [
    "# 75. Write a Python program to read last n lines of a file.\n",
    "\n",
    "from collections import deque\n",
    "\n",
    "def read_last_n_lines(file_name, n):\n",
    "    with open(file_name, 'r') as file:\n",
    "        last_n_lines = deque(file, maxlen=n)\n",
    "    \n",
    "    for line in last_n_lines:\n",
    "        print(line.strip())  \n",
    "\n",
    "file_name = 'Tirth_append.txt'\n",
    "n = 5  \n",
    "read_last_n_lines(file_name, n)"
   ]
  },
  {
   "cell_type": "code",
   "execution_count": 59,
   "id": "1c787670-c25d-4029-bffa-4bc6ddaa0c2f",
   "metadata": {},
   "outputs": [
    {
     "name": "stdout",
     "output_type": "stream",
     "text": [
      "['I am learning Data Analytics in Tops Technologies.', 'Hello, My name is Tirth Patel.', 'I am B.com Graduated.', 'My experience in marketing field of 1.5 year.', 'My favourite game is Volleyball.']\n"
     ]
    }
   ],
   "source": [
    "# 76. Write a Python program to read a file line by line and store it into a list \n",
    "\n",
    "def read_file_to_list(filename):\n",
    "    lines = []\n",
    "    try:\n",
    "        with open(filename, 'r') as file:\n",
    "            lines = file.readlines()\n",
    "            lines = [line.strip() for line in lines] \n",
    "    except FileNotFoundError:\n",
    "        print(f\"The file '{filename}' was not found.\")\n",
    "    return lines\n",
    "\n",
    "filename = 'Tirth_append.txt' \n",
    "lines_list = read_file_to_list(filename)\n",
    "print(lines_list)"
   ]
  },
  {
   "cell_type": "code",
   "execution_count": 60,
   "id": "37485994-860b-4b09-b96b-ece00813528b",
   "metadata": {},
   "outputs": [
    {
     "name": "stdout",
     "output_type": "stream",
     "text": [
      "I am learning Data Analytics in Tops Technologies.\n",
      "Hello, My name is Tirth Patel.\n",
      "I am B.com Graduated.\n",
      "My experience in marketing field of 1.5 year.\n",
      "My favourite game is Volleyball.\n",
      "\n"
     ]
    }
   ],
   "source": [
    "# 77. Write a Python program to read a file line by line store it into a variable. \n",
    "\n",
    "def read_file_to_variable(filename):\n",
    "    content = \"\"\n",
    "    try:\n",
    "        with open(filename, 'r') as file:\n",
    "            content = file.read() \n",
    "    except FileNotFoundError:\n",
    "        print(f\"The file '{filename}' was not found.\")\n",
    "    return content\n",
    "\n",
    "filename = 'Tirth_append.txt'\n",
    "file_content = read_file_to_variable(filename)\n",
    "print(file_content)"
   ]
  },
  {
   "cell_type": "code",
   "execution_count": 61,
   "id": "d5b86f61-49df-4548-8d08-75f0c4b3a12a",
   "metadata": {},
   "outputs": [
    {
     "name": "stdout",
     "output_type": "stream",
     "text": [
      "Longest word: Technologies.\n"
     ]
    }
   ],
   "source": [
    "# 78. Write a python program to find the longest words. \n",
    "\n",
    "def find_longest_word(filename):\n",
    "    with open(filename, 'r') as file:\n",
    "        words = file.read().split()\n",
    "    longest_word = max(words, key=len)\n",
    "    return longest_word\n",
    "\n",
    "filename = 'Tirth_append.txt' \n",
    "print(\"Longest word:\", find_longest_word(filename))"
   ]
  },
  {
   "cell_type": "code",
   "execution_count": 62,
   "id": "57d45fc3-3125-42e8-b85d-2db84466632d",
   "metadata": {},
   "outputs": [
    {
     "name": "stdout",
     "output_type": "stream",
     "text": [
      "Number of lines: 5\n"
     ]
    }
   ],
   "source": [
    "# 79. Write a Python program to count the number of lines in a text file. \n",
    "\n",
    "def count_lines(filename):\n",
    "    with open(filename, 'r') as file:\n",
    "        lines = file.readlines()\n",
    "    return len(lines)\n",
    "\n",
    "filename = 'Tirth_append.txt'  \n",
    "print(\"Number of lines:\", count_lines(filename))"
   ]
  },
  {
   "cell_type": "code",
   "execution_count": 63,
   "id": "4d5b11e3-26ec-48db-8a5c-8aa702fe2896",
   "metadata": {},
   "outputs": [
    {
     "name": "stdout",
     "output_type": "stream",
     "text": [
      "Word frequencies: Counter({'my': 3, 'i': 2, 'am': 2, 'in': 2, 'is': 2, 'learning': 1, 'data': 1, 'analytics': 1, 'tops': 1, 'technologies.': 1, 'hello,': 1, 'name': 1, 'tirth': 1, 'patel.': 1, 'b.com': 1, 'graduated.': 1, 'experience': 1, 'marketing': 1, 'field': 1, 'of': 1, '1.5': 1, 'year.': 1, 'favourite': 1, 'game': 1, 'volleyball.': 1})\n"
     ]
    }
   ],
   "source": [
    "# 80. Write a Python program to count the frequency of words in a file. \n",
    "\n",
    "from collections import Counter\n",
    "\n",
    "def count_word_frequency(filename):\n",
    "    with open(filename, 'r') as file:\n",
    "        words = file.read().lower().split()  \n",
    "    word_count = Counter(words)\n",
    "    return word_count\n",
    "\n",
    "filename = 'Tirth_append.txt'  \n",
    "word_frequencies = count_word_frequency(filename)\n",
    "print(\"Word frequencies:\", word_frequencies)"
   ]
  },
  {
   "cell_type": "code",
   "execution_count": 64,
   "id": "533faece-06fb-4cc2-bfb8-49236aa16d40",
   "metadata": {},
   "outputs": [
    {
     "name": "stdout",
     "output_type": "stream",
     "text": [
      "List written to Tirth_append1.txt\n"
     ]
    }
   ],
   "source": [
    "# 81. Write a Python program to write a list to a file. \n",
    "\n",
    "def write_list_to_file(filename, items):\n",
    "    with open(filename, 'w') as file:\n",
    "        for item in items:\n",
    "            file.write(f\"{item}\\n\")\n",
    "\n",
    "filename = 'Tirth_append1.txt'  \n",
    "my_list = [\"apple\", \"banana\", \"cherry\", \"date\"]\n",
    "write_list_to_file(filename, my_list)\n",
    "print(f\"List written to {filename}\")"
   ]
  },
  {
   "cell_type": "code",
   "execution_count": 66,
   "id": "b06a316a-f9f2-4c98-abf8-83cecd93294c",
   "metadata": {},
   "outputs": [
    {
     "name": "stdout",
     "output_type": "stream",
     "text": [
      "Contents copied from Tirth_append2.txt to Tirth_append3.txt\n"
     ]
    }
   ],
   "source": [
    "# 82. Write a Python program to copy the contents of a file to another file. \n",
    "\n",
    "def copy_file(source_file, destination_file):\n",
    "    with open(source_file, 'r') as src, open(destination_file, 'w') as dest:\n",
    "        dest.write(src.read())\n",
    "\n",
    "source_file = 'Tirth_append2.txt'  \n",
    "destination_file = 'Tirth_append3.txt'  \n",
    "copy_file(source_file, destination_file)\n",
    "print(f\"Contents copied from {source_file} to {destination_file}\")"
   ]
  },
  {
   "cell_type": "raw",
   "id": "6c3cd6d5-c213-452e-924e-9ce845cb2e33",
   "metadata": {},
   "source": [
    "83. Explain Exception handling? What is an Error in Python? \n",
    "-> Exception handling in Python is a mechanism to manage errors during the execution of a program, allowing the code to respond gracefully instead of       abruptly stopping. This is accomplished using the try, except, else, and finally blocks. Here’s a breakdown:\n",
    "    -> try block: Code that might cause an exception is placed here. Python will try to execute this code.\n",
    "    -> except block: If an exception occurs in the try block, the code in the except block executes. This helps to handle errors without crashing the                         program.\n",
    "    -> else block: Code in the else block runs if no exception was raised in the try block.\n",
    "    -> finally block: This block always runs, regardless of whether an exception occurred, and is commonly used for cleanup actions.                                            (e.g., closing files).\n",
    "\n",
    "-> Example\n",
    "    -> Input: try:\n",
    "                  result = 10 / 0\n",
    "              except ZeroDivisionError:\n",
    "                  print(\"Cannot divide by zero!\")\n",
    "              else:\n",
    "                  print(\"Division successful:\", result)\n",
    "              finally:\n",
    "                  print(\"Execution completed.\")\n",
    "    -> In this example:\n",
    "        -> If there’s a division by zero, the except block will handle the ZeroDivisionError.\n",
    "        -> If no error occurs, the else block executes.\n",
    "        -> The finally block will always run, regardless of an exception.\n",
    "\n",
    "-> What is an Error in Python?\n",
    "-> An error in Python is an issue in a program that prevents it from running correctly. Errors can be classified as:\n",
    "    -> Syntax Errors: Errors in the syntax of the code, such as missing colons or incorrect indentation. These are detected before execution.\n",
    "        -> Example: print(\"Hello World\" (missing closing parenthesis)\n",
    "    -> Exceptions: Errors that occur during execution. Python provides various built-in exceptions, such as ZeroDivisionError, ValueError, and                              FileNotFoundError.\n",
    "        -> Example: Dividing by zero or trying to access a file that doesn’t exist"
   ]
  },
  {
   "cell_type": "raw",
   "id": "d112e030-3f2f-4e30-8c3a-9922573110b1",
   "metadata": {},
   "source": [
    "84. How many except statements can a try-except block have? Name Some built-in exception classes: \n",
    "-> A try-except block in Python can have multiple except statements to handle different types of exceptions. Each except statement can specify a            different exception type to catch specific errors. There’s technically no limit to the number of except blocks you can have in a single try-except       block.\n",
    "\n",
    "-> Some Built-in Exception Classes in Python:\n",
    "-> Here are some common built-in exception classes:\n",
    "    1. ValueError: Raised when an operation receives an argument of the right type but an inappropriate value.\n",
    "    2. TypeError: Raised when an operation is applied to an object of inappropriate type.\n",
    "    3.IndexError: Raised when trying to access an index that is out of the range of a list or tuple.\n",
    "    4. KeyError: Raised when a dictionary key is not found.\n",
    "    5. FileNotFoundError: Raised when trying to open a file that does not exist.\n",
    "    6. ZeroDivisionError: Raised when trying to divide by zero.\n",
    "    7. AttributeError: Raised when an invalid attribute is referenced.\n",
    "    8. ImportError: Raised when an import statement fails to import a module.\n",
    "    9. IOError: Raised when an input/output operation fails (e.g., reading or writing files).\n",
    "    10. OverflowError: Raised when a calculation exceeds the limits for a numeric type."
   ]
  },
  {
   "cell_type": "raw",
   "id": "9d35172a-605b-4d4c-be3d-7232b02f8770",
   "metadata": {},
   "source": [
    "85. When will the else part of try-except-else be executed? \n",
    "-> The else part of a try-except-else block in Python is executed only if the code in the try block does not raise any exceptions. It provides a way to     define a block of code that should run when the try block is successful.\n",
    "-> Example\n",
    "    -> Input: try:\n",
    "                  result = 10 / 2  # This will succeed\n",
    "              except ZeroDivisionError:\n",
    "                  print(\"Cannot divide by zero!\")\n",
    "              else:\n",
    "                  print(\"Division successful, result is:\", result)  # This will run if no exception occurs\n",
    "    -> Explanation:\n",
    "        -> In the above example, since 10 / 2 does not raise any exceptions, the code in the else block executes, printing the result.                           -> If there had been an exception (for example, if we tried to divide by zero), the except block would have executed, and the else block would              be skipped.\n",
    "-> Key Points:\n",
    "    -> The else block is useful for code that should run only after the try block executes successfully without errors.\n",
    "    -> It helps in separating the error handling (in except) from the successful execution code, improving code readability."
   ]
  },
  {
   "cell_type": "raw",
   "id": "ae00adc1-3bec-48a8-8822-8ea1d5288707",
   "metadata": {},
   "source": [
    "86. Can one block of except statements handle multiple exception? \n",
    "-> Yes, a single except block in Python can handle multiple exceptions by specifying the exception types as a tuple. This allows you to catch different     exceptions with the same handling code.\n",
    "-> Example\n",
    "    -> Input: try:\n",
    "                  num = int(input(\"Enter a number: \"))\n",
    "                  result = 10 / num\n",
    "              except (ValueError, ZeroDivisionError) as e:\n",
    "                  print(\"An error occurred:\", e)\n",
    "    -> Explanation:\n",
    "        -> In the example above, the except block is designed to catch both ValueError (if the input is not a number) and ZeroDivisionError                         (if the input is 0).\n",
    "        -> If either of these exceptions occurs, the program will print the error message along with the specific exception message.\n",
    "-> Key Points:\n",
    "    -> Using a single except block for multiple exceptions can help reduce code duplication and make error handling more efficient.\n",
    "    -> You can still access the caught exception using the as keyword, allowing you to print or log specific details about the error."
   ]
  },
  {
   "cell_type": "raw",
   "id": "0b73c6df-8843-4f2e-8991-f4077a95c0b2",
   "metadata": {},
   "source": [
    "87. When is the finally block executed? \n",
    "-> The finally block in Python is executed always, regardless of whether an exception was raised or handled in the try block. Here are the key scenarios where the finally block will be executed:\n",
    "\n",
    "    1. No Exception Raised: If the code in the try block executes successfully without any exceptions, the finally block will run after the try block.\n",
    "\n",
    "    2. Exception Raised and Caught: If an exception occurs and is caught by an except block, the finally block will still execute afterward.\n",
    "\n",
    "    3. Exception Raised but Not Caught: If an exception occurs that is not caught by an except block, the finally block will execute before the program                                          terminates.\n",
    "\n",
    "    4. Program Exit: If the program exits via a sys.exit() call or due to an unhandled exception, the finally block will execute just before the program                      exits."
   ]
  },
  {
   "cell_type": "raw",
   "id": "de012803-4070-4434-9429-08cb242d23fd",
   "metadata": {},
   "source": [
    "88. What happens when „1‟== 1 is executed?\n",
    "-> When the expression “1” == 1 is executed in Python, it evaluates to False. Here’s why:\n",
    "    1. Data Types: The left side of the expression is a string (\"1\"), and the right side is an integer (1). In Python, the equality operator (==) checks                    for both value and type equality.\n",
    "    2. Type Mismatch: Since the two operands are of different types (string vs integer), Python determines that they cannot be equal.\n",
    "    3. Result: The expression will return False.\n",
    "-> Example\n",
    "    -> Input: result = \"1\" == 1\n",
    "              print(result)  # Output: False\n",
    "-> Summary:\n",
    "    -> Expression: “1” == 1\n",
    "    -> Evaluation: False (due to type mismatch)\n",
    "    -> Reason: Different data types (string vs integer) are not considered equal in Python."
   ]
  },
  {
   "cell_type": "raw",
   "id": "18e1bddd-8679-4143-ba4d-43e9d6b7c7b5",
   "metadata": {},
   "source": [
    "89. How Do You Handle Exceptions with Try/Except/Finally in Python? Explain with coding snippets\n",
    "-> In Python, you can handle exceptions using the try, except, and finally blocks. This structure allows you to manage errors gracefully while ensuring     that certain code always executes, regardless of whether an exception occurred. Here’s how each part works:\n",
    "     1. try Block\n",
    "         -> The try block contains code that might raise an exception. If an exception occurs, the control is passed to the corresponding except block.\n",
    "     2. except Block\n",
    "         -> The except block is used to handle specific exceptions that might be raised in the try block. You can have multiple except blocks to handle              different types of exceptions.\n",
    "     3. finally Block\n",
    "         -> The finally block contains code that will execute regardless of whether an exception occurred or was caught. This is useful for cleanup                  actions, such as closing files or releasing resources.\n",
    "\n",
    "-> Explanation:\n",
    "    -> try Block: The code attempts to divide num1 by num2.\n",
    "    -> except ZeroDivisionError: If num2 is 0, this block will execute, printing an error message.\n",
    "    -> except TypeError: If either num1 or num2 is not a number (like a string), this block will execute.\n",
    "    -> else Block: If no exceptions occur, this block will print the successful division result.\n",
    "    -> finally Block: This block executes no matter what, ensuring that any cleanup actions are performed. It always runs after the try and except                             blocks.\n",
    "\n",
    "-> Summary:\n",
    "    -> Use the try block to enclose code that might raise an exception.\n",
    "    -> Handle specific exceptions in except blocks.\n",
    "    -> Use the finally block for cleanup code that should always execute. \n",
    "-> Example: The example is write down above shell."
   ]
  },
  {
   "cell_type": "code",
   "execution_count": 67,
   "id": "8ff839cd-6180-45d7-8a1e-3bcc4a35480f",
   "metadata": {},
   "outputs": [
    {
     "name": "stdout",
     "output_type": "stream",
     "text": [
      "Example 1:\n",
      "Division successful. Result: 5.0\n",
      "Execution of finally block.\n",
      "\n",
      "Example 2:\n",
      "Error: Cannot divide by zero.\n",
      "Execution of finally block.\n",
      "\n",
      "Example 3:\n",
      "Error: Both inputs must be numbers.\n",
      "Execution of finally block.\n"
     ]
    }
   ],
   "source": [
    "# 89. How Do You Handle Exceptions with Try/Except/Finally in Python? Explain with coding snippets\n",
    "\n",
    "def divide_numbers(num1, num2):\n",
    "    try:\n",
    "        result = num1 / num2\n",
    "    except ZeroDivisionError:\n",
    "        print(\"Error: Cannot divide by zero.\")\n",
    "        return None\n",
    "    except TypeError:\n",
    "        print(\"Error: Both inputs must be numbers.\")\n",
    "        return None\n",
    "    else:\n",
    "        print(\"Division successful. Result:\", result)\n",
    "        return result\n",
    "    finally:\n",
    "        print(\"Execution of finally block.\")\n",
    "\n",
    "print(\"Example 1:\")\n",
    "divide_numbers(10, 2) \n",
    "\n",
    "print(\"\\nExample 2:\")\n",
    "divide_numbers(10, 0)  \n",
    "\n",
    "print(\"\\nExample 3:\")\n",
    "divide_numbers(10, \"a\") "
   ]
  },
  {
   "cell_type": "code",
   "execution_count": 68,
   "id": "15e989a0-f1b3-4da7-bbf1-6cc92140cf0b",
   "metadata": {},
   "outputs": [
    {
     "name": "stdin",
     "output_type": "stream",
     "text": [
      "Enter an odd number:  5\n"
     ]
    },
    {
     "name": "stdout",
     "output_type": "stream",
     "text": [
      "Thank you! You entered the odd number: 5\n"
     ]
    }
   ],
   "source": [
    "# 90. Write python program that user to enter only odd numbers, else will raise an exception. \n",
    "\n",
    "def get_odd_number():\n",
    "    while True:\n",
    "        try:\n",
    "            number = int(input(\"Enter an odd number: \"))\n",
    "            if number % 2 == 0:\n",
    "                raise ValueError(\"The number entered is even. Please enter an odd number.\")\n",
    "            else:\n",
    "                print(f\"Thank you! You entered the odd number: {number}\")\n",
    "                break \n",
    "        except ValueError as e:\n",
    "            print(e)  \n",
    "\n",
    "get_odd_number()"
   ]
  }
 ],
 "metadata": {
  "kernelspec": {
   "display_name": "Python 3 (ipykernel)",
   "language": "python",
   "name": "python3"
  },
  "language_info": {
   "codemirror_mode": {
    "name": "ipython",
    "version": 3
   },
   "file_extension": ".py",
   "mimetype": "text/x-python",
   "name": "python",
   "nbconvert_exporter": "python",
   "pygments_lexer": "ipython3",
   "version": "3.12.4"
  }
 },
 "nbformat": 4,
 "nbformat_minor": 5
}
